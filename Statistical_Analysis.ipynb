{
 "cells": [
  {
   "cell_type": "markdown",
   "metadata": {},
   "source": [
    "# <b>Statistcal Analyses of the Participants' Data</b>\n",
    "<br>\n",
    "The following code computes statistical information and calculates metrics to measure the reliability of each participant, as well as the success of the phrase detection algorithm."
   ]
  },
  {
   "cell_type": "code",
   "execution_count": 1,
   "metadata": {},
   "outputs": [],
   "source": [
    "import pandas as pd\n",
    "import numpy as np\n",
    "import matplotlib.pyplot as plt\n",
    "import sys"
   ]
  },
  {
   "cell_type": "markdown",
   "metadata": {},
   "source": [
    "Load the \"squash.csv\" file, which contains each participant's data for each stimulus all in one file"
   ]
  },
  {
   "cell_type": "code",
   "execution_count": 2,
   "metadata": {},
   "outputs": [],
   "source": [
    "data = pd.read_csv(\"squash.csv\")"
   ]
  },
  {
   "cell_type": "markdown",
   "metadata": {},
   "source": [
    "## Visualize the data"
   ]
  },
  {
   "cell_type": "markdown",
   "metadata": {},
   "source": [
    "Look at the first five lines"
   ]
  },
  {
   "cell_type": "code",
   "execution_count": 3,
   "metadata": {},
   "outputs": [
    {
     "data": {
      "text/html": [
       "<div>\n",
       "<style scoped>\n",
       "    .dataframe tbody tr th:only-of-type {\n",
       "        vertical-align: middle;\n",
       "    }\n",
       "\n",
       "    .dataframe tbody tr th {\n",
       "        vertical-align: top;\n",
       "    }\n",
       "\n",
       "    .dataframe thead th {\n",
       "        text-align: right;\n",
       "    }\n",
       "</style>\n",
       "<table border=\"1\" class=\"dataframe\">\n",
       "  <thead>\n",
       "    <tr style=\"text-align: right;\">\n",
       "      <th></th>\n",
       "      <th>0</th>\n",
       "      <th>1</th>\n",
       "      <th>2</th>\n",
       "      <th>3</th>\n",
       "      <th>4</th>\n",
       "      <th>5</th>\n",
       "      <th>6</th>\n",
       "      <th>7</th>\n",
       "      <th>8</th>\n",
       "      <th>9</th>\n",
       "      <th>10</th>\n",
       "      <th>11</th>\n",
       "      <th>12</th>\n",
       "      <th>13</th>\n",
       "      <th>14</th>\n",
       "      <th>15</th>\n",
       "      <th>16</th>\n",
       "      <th>17</th>\n",
       "      <th>18</th>\n",
       "      <th>19</th>\n",
       "    </tr>\n",
       "  </thead>\n",
       "  <tbody>\n",
       "    <tr>\n",
       "      <th>0</th>\n",
       "      <td>12.440676</td>\n",
       "      <td>12.639807</td>\n",
       "      <td>10.896421</td>\n",
       "      <td>9.849563</td>\n",
       "      <td>5.349503</td>\n",
       "      <td>5.389136</td>\n",
       "      <td>6.527361</td>\n",
       "      <td>6.473224</td>\n",
       "      <td>23.059296</td>\n",
       "      <td>38.508334</td>\n",
       "      <td>10.161832</td>\n",
       "      <td>9.880329</td>\n",
       "      <td>25.886552</td>\n",
       "      <td>25.826727</td>\n",
       "      <td>11.633643</td>\n",
       "      <td>24.028560</td>\n",
       "      <td>23.763999</td>\n",
       "      <td>24.315200</td>\n",
       "      <td>34.231317</td>\n",
       "      <td>34.218165</td>\n",
       "    </tr>\n",
       "    <tr>\n",
       "      <th>1</th>\n",
       "      <td>27.139909</td>\n",
       "      <td>27.404654</td>\n",
       "      <td>13.179512</td>\n",
       "      <td>18.467137</td>\n",
       "      <td>9.715871</td>\n",
       "      <td>9.806778</td>\n",
       "      <td>12.575475</td>\n",
       "      <td>12.423707</td>\n",
       "      <td>36.051019</td>\n",
       "      <td>64.107683</td>\n",
       "      <td>34.240482</td>\n",
       "      <td>19.663830</td>\n",
       "      <td>37.801020</td>\n",
       "      <td>37.958059</td>\n",
       "      <td>23.416039</td>\n",
       "      <td>45.395041</td>\n",
       "      <td>50.328252</td>\n",
       "      <td>49.680559</td>\n",
       "      <td>43.397244</td>\n",
       "      <td>83.630416</td>\n",
       "    </tr>\n",
       "    <tr>\n",
       "      <th>2</th>\n",
       "      <td>42.993334</td>\n",
       "      <td>43.102829</td>\n",
       "      <td>15.063049</td>\n",
       "      <td>23.650109</td>\n",
       "      <td>15.015314</td>\n",
       "      <td>14.919986</td>\n",
       "      <td>17.842205</td>\n",
       "      <td>18.956122</td>\n",
       "      <td>63.562762</td>\n",
       "      <td>75.440590</td>\n",
       "      <td>60.506893</td>\n",
       "      <td>24.547872</td>\n",
       "      <td>52.267965</td>\n",
       "      <td>52.106429</td>\n",
       "      <td>40.465009</td>\n",
       "      <td>60.676565</td>\n",
       "      <td>75.692786</td>\n",
       "      <td>76.528222</td>\n",
       "      <td>59.329580</td>\n",
       "      <td>7.708452</td>\n",
       "    </tr>\n",
       "    <tr>\n",
       "      <th>3</th>\n",
       "      <td>57.037504</td>\n",
       "      <td>57.036317</td>\n",
       "      <td>28.012461</td>\n",
       "      <td>28.150118</td>\n",
       "      <td>25.116422</td>\n",
       "      <td>33.404117</td>\n",
       "      <td>27.609059</td>\n",
       "      <td>27.671644</td>\n",
       "      <td>78.732278</td>\n",
       "      <td>134.869303</td>\n",
       "      <td>95.520714</td>\n",
       "      <td>35.662427</td>\n",
       "      <td>56.935690</td>\n",
       "      <td>56.890597</td>\n",
       "      <td>61.262266</td>\n",
       "      <td>70.725352</td>\n",
       "      <td>3.259511</td>\n",
       "      <td>0.631593</td>\n",
       "      <td>83.162935</td>\n",
       "      <td>12.808419</td>\n",
       "    </tr>\n",
       "    <tr>\n",
       "      <th>4</th>\n",
       "      <td>70.936573</td>\n",
       "      <td>71.201276</td>\n",
       "      <td>49.241924</td>\n",
       "      <td>43.899086</td>\n",
       "      <td>33.448359</td>\n",
       "      <td>40.469569</td>\n",
       "      <td>33.908196</td>\n",
       "      <td>33.821432</td>\n",
       "      <td>102.844903</td>\n",
       "      <td>19.625722</td>\n",
       "      <td>4.896373</td>\n",
       "      <td>65.178244</td>\n",
       "      <td>61.818633</td>\n",
       "      <td>61.773023</td>\n",
       "      <td>71.194715</td>\n",
       "      <td>111.471464</td>\n",
       "      <td>7.675102</td>\n",
       "      <td>3.331237</td>\n",
       "      <td>1.576442</td>\n",
       "      <td>19.123541</td>\n",
       "    </tr>\n",
       "  </tbody>\n",
       "</table>\n",
       "</div>"
      ],
      "text/plain": [
       "           0          1          2          3          4          5  \\\n",
       "0  12.440676  12.639807  10.896421   9.849563   5.349503   5.389136   \n",
       "1  27.139909  27.404654  13.179512  18.467137   9.715871   9.806778   \n",
       "2  42.993334  43.102829  15.063049  23.650109  15.015314  14.919986   \n",
       "3  57.037504  57.036317  28.012461  28.150118  25.116422  33.404117   \n",
       "4  70.936573  71.201276  49.241924  43.899086  33.448359  40.469569   \n",
       "\n",
       "           6          7           8           9         10         11  \\\n",
       "0   6.527361   6.473224   23.059296   38.508334  10.161832   9.880329   \n",
       "1  12.575475  12.423707   36.051019   64.107683  34.240482  19.663830   \n",
       "2  17.842205  18.956122   63.562762   75.440590  60.506893  24.547872   \n",
       "3  27.609059  27.671644   78.732278  134.869303  95.520714  35.662427   \n",
       "4  33.908196  33.821432  102.844903   19.625722   4.896373  65.178244   \n",
       "\n",
       "          12         13         14          15         16         17  \\\n",
       "0  25.886552  25.826727  11.633643   24.028560  23.763999  24.315200   \n",
       "1  37.801020  37.958059  23.416039   45.395041  50.328252  49.680559   \n",
       "2  52.267965  52.106429  40.465009   60.676565  75.692786  76.528222   \n",
       "3  56.935690  56.890597  61.262266   70.725352   3.259511   0.631593   \n",
       "4  61.818633  61.773023  71.194715  111.471464   7.675102   3.331237   \n",
       "\n",
       "          18         19  \n",
       "0  34.231317  34.218165  \n",
       "1  43.397244  83.630416  \n",
       "2  59.329580   7.708452  \n",
       "3  83.162935  12.808419  \n",
       "4   1.576442  19.123541  "
      ]
     },
     "execution_count": 3,
     "metadata": {},
     "output_type": "execute_result"
    }
   ],
   "source": [
    "data.head()"
   ]
  },
  {
   "cell_type": "markdown",
   "metadata": {},
   "source": [
    "Create a list of column names for iteration of the data"
   ]
  },
  {
   "cell_type": "code",
   "execution_count": 4,
   "metadata": {},
   "outputs": [],
   "source": [
    "stimuli = ['0', '1', '2', '3', '4', '5', '6', '7', '8', '9', '10', '11', '12', '13', '14', '15', '16', '17', '18', '19']"
   ]
  },
  {
   "cell_type": "markdown",
   "metadata": {},
   "source": [
    "Since the squashed data is not organized in ascending order, we need to sort it and drop the nan values."
   ]
  },
  {
   "cell_type": "code",
   "execution_count": 5,
   "metadata": {},
   "outputs": [],
   "source": [
    "sort = data.sort_values(stimuli)\n",
    "\n",
    "#drop nan values\n",
    "for i in range(len(stimuli)):\n",
    "    column = sort[stimuli[i]]\n",
    "    column = column.replace(0, np.nan) #eliminate extraneous zeros\n",
    "    column = column.dropna(how='all', axis=0) #drop nan values\n",
    "    sort.insert(i, i+20, column, False) #insert the column containing no nan values\n",
    "\n",
    "#reorganize dataframe columns by stimuli identifier\n",
    "sort = sort.drop(sort[stimuli], axis=1)\n",
    "for i in range(len(stimuli)):\n",
    "    sort = sort.rename(columns={(i+len(stimuli)) : i})"
   ]
  },
  {
   "cell_type": "markdown",
   "metadata": {},
   "source": [
    "Show summary statistics for the sorted, nan-free data:"
   ]
  },
  {
   "cell_type": "code",
   "execution_count": 6,
   "metadata": {},
   "outputs": [
    {
     "data": {
      "text/html": [
       "<div>\n",
       "<style scoped>\n",
       "    .dataframe tbody tr th:only-of-type {\n",
       "        vertical-align: middle;\n",
       "    }\n",
       "\n",
       "    .dataframe tbody tr th {\n",
       "        vertical-align: top;\n",
       "    }\n",
       "\n",
       "    .dataframe thead th {\n",
       "        text-align: right;\n",
       "    }\n",
       "</style>\n",
       "<table border=\"1\" class=\"dataframe\">\n",
       "  <thead>\n",
       "    <tr style=\"text-align: right;\">\n",
       "      <th></th>\n",
       "      <th>0</th>\n",
       "      <th>1</th>\n",
       "      <th>2</th>\n",
       "      <th>3</th>\n",
       "      <th>4</th>\n",
       "      <th>5</th>\n",
       "      <th>6</th>\n",
       "      <th>7</th>\n",
       "      <th>8</th>\n",
       "      <th>9</th>\n",
       "      <th>10</th>\n",
       "      <th>11</th>\n",
       "      <th>12</th>\n",
       "      <th>13</th>\n",
       "      <th>14</th>\n",
       "      <th>15</th>\n",
       "      <th>16</th>\n",
       "      <th>17</th>\n",
       "      <th>18</th>\n",
       "      <th>19</th>\n",
       "    </tr>\n",
       "  </thead>\n",
       "  <tbody>\n",
       "    <tr>\n",
       "      <th>count</th>\n",
       "      <td>105.000000</td>\n",
       "      <td>108.000000</td>\n",
       "      <td>145.000000</td>\n",
       "      <td>151.000000</td>\n",
       "      <td>109.000000</td>\n",
       "      <td>119.000000</td>\n",
       "      <td>203.000000</td>\n",
       "      <td>268.000000</td>\n",
       "      <td>107.000000</td>\n",
       "      <td>94.000000</td>\n",
       "      <td>136.000000</td>\n",
       "      <td>150.000000</td>\n",
       "      <td>118.000000</td>\n",
       "      <td>118.000000</td>\n",
       "      <td>140.000000</td>\n",
       "      <td>173.000000</td>\n",
       "      <td>110.000000</td>\n",
       "      <td>111.000000</td>\n",
       "      <td>76.000000</td>\n",
       "      <td>105.000000</td>\n",
       "    </tr>\n",
       "    <tr>\n",
       "      <th>mean</th>\n",
       "      <td>56.608792</td>\n",
       "      <td>56.935811</td>\n",
       "      <td>43.686810</td>\n",
       "      <td>43.230863</td>\n",
       "      <td>37.159531</td>\n",
       "      <td>37.406707</td>\n",
       "      <td>69.332693</td>\n",
       "      <td>70.878450</td>\n",
       "      <td>77.302722</td>\n",
       "      <td>76.742385</td>\n",
       "      <td>49.521143</td>\n",
       "      <td>49.717662</td>\n",
       "      <td>56.349689</td>\n",
       "      <td>56.154729</td>\n",
       "      <td>63.739823</td>\n",
       "      <td>64.384677</td>\n",
       "      <td>42.486479</td>\n",
       "      <td>38.955334</td>\n",
       "      <td>50.855019</td>\n",
       "      <td>50.030755</td>\n",
       "    </tr>\n",
       "    <tr>\n",
       "      <th>std</th>\n",
       "      <td>29.179460</td>\n",
       "      <td>29.200780</td>\n",
       "      <td>24.022039</td>\n",
       "      <td>23.931613</td>\n",
       "      <td>20.502617</td>\n",
       "      <td>20.188056</td>\n",
       "      <td>44.416677</td>\n",
       "      <td>43.469767</td>\n",
       "      <td>37.312752</td>\n",
       "      <td>35.531372</td>\n",
       "      <td>30.886698</td>\n",
       "      <td>31.771288</td>\n",
       "      <td>20.226246</td>\n",
       "      <td>20.124537</td>\n",
       "      <td>34.277542</td>\n",
       "      <td>31.367564</td>\n",
       "      <td>21.014249</td>\n",
       "      <td>21.900541</td>\n",
       "      <td>25.011682</td>\n",
       "      <td>24.423264</td>\n",
       "    </tr>\n",
       "    <tr>\n",
       "      <th>min</th>\n",
       "      <td>11.924949</td>\n",
       "      <td>12.113265</td>\n",
       "      <td>5.692099</td>\n",
       "      <td>3.530363</td>\n",
       "      <td>5.085682</td>\n",
       "      <td>3.640436</td>\n",
       "      <td>0.354522</td>\n",
       "      <td>0.298719</td>\n",
       "      <td>2.307089</td>\n",
       "      <td>19.092045</td>\n",
       "      <td>3.759907</td>\n",
       "      <td>3.193040</td>\n",
       "      <td>10.703033</td>\n",
       "      <td>5.348987</td>\n",
       "      <td>9.224742</td>\n",
       "      <td>0.369929</td>\n",
       "      <td>3.098278</td>\n",
       "      <td>0.631593</td>\n",
       "      <td>1.576442</td>\n",
       "      <td>5.587425</td>\n",
       "    </tr>\n",
       "    <tr>\n",
       "      <th>25%</th>\n",
       "      <td>27.317591</td>\n",
       "      <td>27.486238</td>\n",
       "      <td>23.273848</td>\n",
       "      <td>23.255209</td>\n",
       "      <td>15.277739</td>\n",
       "      <td>17.082780</td>\n",
       "      <td>27.580843</td>\n",
       "      <td>32.953899</td>\n",
       "      <td>39.717731</td>\n",
       "      <td>44.918865</td>\n",
       "      <td>19.782124</td>\n",
       "      <td>19.652401</td>\n",
       "      <td>38.657916</td>\n",
       "      <td>37.920776</td>\n",
       "      <td>34.784313</td>\n",
       "      <td>39.840591</td>\n",
       "      <td>23.808221</td>\n",
       "      <td>22.958298</td>\n",
       "      <td>32.773209</td>\n",
       "      <td>32.202683</td>\n",
       "    </tr>\n",
       "    <tr>\n",
       "      <th>50%</th>\n",
       "      <td>56.835936</td>\n",
       "      <td>56.948155</td>\n",
       "      <td>44.174728</td>\n",
       "      <td>44.263269</td>\n",
       "      <td>40.332632</td>\n",
       "      <td>40.365519</td>\n",
       "      <td>70.216263</td>\n",
       "      <td>69.910877</td>\n",
       "      <td>76.718343</td>\n",
       "      <td>75.113764</td>\n",
       "      <td>44.368835</td>\n",
       "      <td>44.187335</td>\n",
       "      <td>57.897333</td>\n",
       "      <td>57.026033</td>\n",
       "      <td>61.158088</td>\n",
       "      <td>60.676565</td>\n",
       "      <td>43.742237</td>\n",
       "      <td>37.750765</td>\n",
       "      <td>46.178315</td>\n",
       "      <td>46.892700</td>\n",
       "    </tr>\n",
       "    <tr>\n",
       "      <th>75%</th>\n",
       "      <td>85.373835</td>\n",
       "      <td>85.350155</td>\n",
       "      <td>59.737220</td>\n",
       "      <td>60.288348</td>\n",
       "      <td>51.110128</td>\n",
       "      <td>51.240736</td>\n",
       "      <td>111.025372</td>\n",
       "      <td>110.917839</td>\n",
       "      <td>103.369149</td>\n",
       "      <td>103.620554</td>\n",
       "      <td>81.796568</td>\n",
       "      <td>81.730102</td>\n",
       "      <td>71.567973</td>\n",
       "      <td>71.521064</td>\n",
       "      <td>96.950700</td>\n",
       "      <td>90.591529</td>\n",
       "      <td>60.325287</td>\n",
       "      <td>56.722143</td>\n",
       "      <td>78.244491</td>\n",
       "      <td>75.064953</td>\n",
       "    </tr>\n",
       "    <tr>\n",
       "      <th>max</th>\n",
       "      <td>102.160253</td>\n",
       "      <td>101.059125</td>\n",
       "      <td>84.320905</td>\n",
       "      <td>84.201348</td>\n",
       "      <td>72.905029</td>\n",
       "      <td>73.663270</td>\n",
       "      <td>143.544367</td>\n",
       "      <td>143.938397</td>\n",
       "      <td>139.500392</td>\n",
       "      <td>137.308953</td>\n",
       "      <td>103.399214</td>\n",
       "      <td>103.054238</td>\n",
       "      <td>86.184881</td>\n",
       "      <td>86.198102</td>\n",
       "      <td>118.122117</td>\n",
       "      <td>119.517539</td>\n",
       "      <td>76.624880</td>\n",
       "      <td>76.735280</td>\n",
       "      <td>89.416809</td>\n",
       "      <td>89.343466</td>\n",
       "    </tr>\n",
       "  </tbody>\n",
       "</table>\n",
       "</div>"
      ],
      "text/plain": [
       "               0           1           2           3           4           5   \\\n",
       "count  105.000000  108.000000  145.000000  151.000000  109.000000  119.000000   \n",
       "mean    56.608792   56.935811   43.686810   43.230863   37.159531   37.406707   \n",
       "std     29.179460   29.200780   24.022039   23.931613   20.502617   20.188056   \n",
       "min     11.924949   12.113265    5.692099    3.530363    5.085682    3.640436   \n",
       "25%     27.317591   27.486238   23.273848   23.255209   15.277739   17.082780   \n",
       "50%     56.835936   56.948155   44.174728   44.263269   40.332632   40.365519   \n",
       "75%     85.373835   85.350155   59.737220   60.288348   51.110128   51.240736   \n",
       "max    102.160253  101.059125   84.320905   84.201348   72.905029   73.663270   \n",
       "\n",
       "               6           7           8           9           10          11  \\\n",
       "count  203.000000  268.000000  107.000000   94.000000  136.000000  150.000000   \n",
       "mean    69.332693   70.878450   77.302722   76.742385   49.521143   49.717662   \n",
       "std     44.416677   43.469767   37.312752   35.531372   30.886698   31.771288   \n",
       "min      0.354522    0.298719    2.307089   19.092045    3.759907    3.193040   \n",
       "25%     27.580843   32.953899   39.717731   44.918865   19.782124   19.652401   \n",
       "50%     70.216263   69.910877   76.718343   75.113764   44.368835   44.187335   \n",
       "75%    111.025372  110.917839  103.369149  103.620554   81.796568   81.730102   \n",
       "max    143.544367  143.938397  139.500392  137.308953  103.399214  103.054238   \n",
       "\n",
       "               12          13          14          15          16          17  \\\n",
       "count  118.000000  118.000000  140.000000  173.000000  110.000000  111.000000   \n",
       "mean    56.349689   56.154729   63.739823   64.384677   42.486479   38.955334   \n",
       "std     20.226246   20.124537   34.277542   31.367564   21.014249   21.900541   \n",
       "min     10.703033    5.348987    9.224742    0.369929    3.098278    0.631593   \n",
       "25%     38.657916   37.920776   34.784313   39.840591   23.808221   22.958298   \n",
       "50%     57.897333   57.026033   61.158088   60.676565   43.742237   37.750765   \n",
       "75%     71.567973   71.521064   96.950700   90.591529   60.325287   56.722143   \n",
       "max     86.184881   86.198102  118.122117  119.517539   76.624880   76.735280   \n",
       "\n",
       "              18          19  \n",
       "count  76.000000  105.000000  \n",
       "mean   50.855019   50.030755  \n",
       "std    25.011682   24.423264  \n",
       "min     1.576442    5.587425  \n",
       "25%    32.773209   32.202683  \n",
       "50%    46.178315   46.892700  \n",
       "75%    78.244491   75.064953  \n",
       "max    89.416809   89.343466  "
      ]
     },
     "execution_count": 6,
     "metadata": {},
     "output_type": "execute_result"
    }
   ],
   "source": [
    "sort.describe()"
   ]
  },
  {
   "cell_type": "markdown",
   "metadata": {},
   "source": [
    "Plot the sorted data altogether onto boxplots for another perspective in visualizing the distribution."
   ]
  },
  {
   "cell_type": "code",
   "execution_count": 7,
   "metadata": {},
   "outputs": [
    {
     "data": {
      "image/png": "[encoded data removed]",
      "text/plain": [
       "<Figure size 432x288 with 1 Axes>"
      ]
     },
     "metadata": {
      "needs_background": "light"
     },
     "output_type": "display_data"
    }
   ],
   "source": [
    "phrase_matrix = [] #used to hold phrase lengths for each stimulus\n",
    "\n",
    "for i in range(len(stimuli)): #copied for-loop from phrase length algorithm\n",
    "    column = sort[i]\n",
    "    s_local_dist = []\n",
    "    s_local_dist.append(column[0])\n",
    "    for j in range(0, len(column)-1):\n",
    "        if column[j+1] > 0: #do not consider missing values\n",
    "            s_local_dist.append(column[j+1] - column[j])\n",
    "    phrase_matrix.append(s_local_dist) #append lists of phrase lengths to matrix\n",
    "\n",
    "plot = plt.boxplot(phrase_matrix)\n",
    "\n",
    "#doesn't do a great job of describing data"
   ]
  },
  {
   "cell_type": "markdown",
   "metadata": {},
   "source": [
    "Plot the sorted data with histograms, by stimulus.\n",
    "<br>\n",
    "Now we visually describe the distributions.\n",
    "<br>\n",
    "The height of the bins indicate how many phrases were marked within that time interval. In this case, the time interval is three seconds.\n",
    "<br>\n",
    "The bins that have heights greater than an arbitrary threshold (let's say 5), indicate that the phrase marking is commonly agreed upon."
   ]
  },
  {
   "cell_type": "code",
   "execution_count": 8,
   "metadata": {},
   "outputs": [
    {
     "data": {
      "image/png": "[encoded data removed]",
      "text/plain": [
       "<Figure size 432x288 with 1 Axes>"
      ]
     },
     "metadata": {
      "needs_background": "light"
     },
     "output_type": "display_data"
    },
    {
     "data": {
      "image/png": "[encoded data removed]",
      "text/plain": [
       "<Figure size 432x288 with 1 Axes>"
      ]
     },
     "metadata": {
      "needs_background": "light"
     },
     "output_type": "display_data"
    },
    {
     "data": {
      "image/png": "[encoded data removed]",
      "text/plain": [
       "<Figure size 432x288 with 1 Axes>"
      ]
     },
     "metadata": {
      "needs_background": "light"
     },
     "output_type": "display_data"
    },
    {
     "data": {
      "image/png": "[encoded data removed]",
      "text/plain": [
       "<Figure size 432x288 with 1 Axes>"
      ]
     },
     "metadata": {
      "needs_background": "light"
     },
     "output_type": "display_data"
    },
    {
     "data": {
      "image/png": "[encoded data removed]",
      "text/plain": [
       "<Figure size 432x288 with 1 Axes>"
      ]
     },
     "metadata": {
      "needs_background": "light"
     },
     "output_type": "display_data"
    },
    {
     "data": {
      "image/png": "[encoded data removed]",
      "text/plain": [
       "<Figure size 432x288 with 1 Axes>"
      ]
     },
     "metadata": {
      "needs_background": "light"
     },
     "output_type": "display_data"
    },
    {
     "data": {
      "image/png": "[encoded data removed]",
      "text/plain": [
       "<Figure size 432x288 with 1 Axes>"
      ]
     },
     "metadata": {
      "needs_background": "light"
     },
     "output_type": "display_data"
    },
    {
     "data": {
      "image/png": "[encoded data removed]",
      "text/plain": [
       "<Figure size 432x288 with 1 Axes>"
      ]
     },
     "metadata": {
      "needs_background": "light"
     },
     "output_type": "display_data"
    },
    {
     "data": {
      "image/png": "[encoded data removed]",
      "text/plain": [
       "<Figure size 432x288 with 1 Axes>"
      ]
     },
     "metadata": {
      "needs_background": "light"
     },
     "output_type": "display_data"
    },
    {
     "data": {
      "image/png": "[encoded data removed]",
      "text/plain": [
       "<Figure size 432x288 with 1 Axes>"
      ]
     },
     "metadata": {
      "needs_background": "light"
     },
     "output_type": "display_data"
    },
    {
     "data": {
      "image/png": "[encoded data removed]",
      "text/plain": [
       "<Figure size 432x288 with 1 Axes>"
      ]
     },
     "metadata": {
      "needs_background": "light"
     },
     "output_type": "display_data"
    },
    {
     "data": {
      "image/png": "[encoded data removed]",
      "text/plain": [
       "<Figure size 432x288 with 1 Axes>"
      ]
     },
     "metadata": {
      "needs_background": "light"
     },
     "output_type": "display_data"
    },
    {
     "data": {
      "image/png": "[encoded data removed]",
      "text/plain": [
       "<Figure size 432x288 with 1 Axes>"
      ]
     },
     "metadata": {
      "needs_background": "light"
     },
     "output_type": "display_data"
    },
    {
     "data": {
      "image/png": "[encoded data removed]",
      "text/plain": [
       "<Figure size 432x288 with 1 Axes>"
      ]
     },
     "metadata": {
      "needs_background": "light"
     },
     "output_type": "display_data"
    },
    {
     "data": {
      "image/png": "[encoded data removed]",
      "text/plain": [
       "<Figure size 432x288 with 1 Axes>"
      ]
     },
     "metadata": {
      "needs_background": "light"
     },
     "output_type": "display_data"
    },
    {
     "data": {
      "image/png": "[encoded data removed]",
      "text/plain": [
       "<Figure size 432x288 with 1 Axes>"
      ]
     },
     "metadata": {
      "needs_background": "light"
     },
     "output_type": "display_data"
    },
    {
     "data": {
      "image/png": "[encoded data removed]",
      "text/plain": [
       "<Figure size 432x288 with 1 Axes>"
      ]
     },
     "metadata": {
      "needs_background": "light"
     },
     "output_type": "display_data"
    },
    {
     "data": {
      "image/png": "[encoded data removed]",
      "text/plain": [
       "<Figure size 432x288 with 1 Axes>"
      ]
     },
     "metadata": {
      "needs_background": "light"
     },
     "output_type": "display_data"
    },
    {
     "data": {
      "image/png": "[encoded data removed]",
      "text/plain": [
       "<Figure size 432x288 with 1 Axes>"
      ]
     },
     "metadata": {
      "needs_background": "light"
     },
     "output_type": "display_data"
    },
    {
     "data": {
      "image/png": "[encoded data removed]",
      "text/plain": [
       "<Figure size 432x288 with 1 Axes>"
      ]
     },
     "metadata": {
      "needs_background": "light"
     },
     "output_type": "display_data"
    }
   ],
   "source": [
    "for i in range(len(stimuli)):\n",
    "    column = sort[i]\n",
    "    column = column.dropna(how='all', axis=0) #assert no nans present\n",
    "    plt.figure()\n",
    "    column.plot.hist(bins=(int(max(column)/3)), histtype='stepfilled') #max(column) is the last mark of the stimulus\n",
    "    plt.title(\"Stimulus \" + str(i))\n",
    "    plt.xlabel('Time (secs)')\n",
    "    plt.ylabel('Frequency of Boundaries')"
   ]
  },
  {
   "cell_type": "markdown",
   "metadata": {},
   "source": [
    "Plot the probability denisty histograms from the sorted data, by stimulus.<br>\n",
    "The height of the bins indicate the probability that the time(x) is a phrase boundary."
   ]
  },
  {
   "cell_type": "code",
   "execution_count": 9,
   "metadata": {},
   "outputs": [
    {
     "data": {
      "image/png": "[encoded data removed]",
      "text/plain": [
       "<Figure size 432x288 with 1 Axes>"
      ]
     },
     "metadata": {
      "needs_background": "light"
     },
     "output_type": "display_data"
    },
    {
     "data": {
      "image/png": "[encoded data removed]",
      "text/plain": [
       "<Figure size 432x288 with 1 Axes>"
      ]
     },
     "metadata": {
      "needs_background": "light"
     },
     "output_type": "display_data"
    },
    {
     "data": {
      "image/png": "[encoded data removed]",
      "text/plain": [
       "<Figure size 432x288 with 1 Axes>"
      ]
     },
     "metadata": {
      "needs_background": "light"
     },
     "output_type": "display_data"
    },
    {
     "data": {
      "image/png": "[encoded data removed]",
      "text/plain": [
       "<Figure size 432x288 with 1 Axes>"
      ]
     },
     "metadata": {
      "needs_background": "light"
     },
     "output_type": "display_data"
    },
    {
     "data": {
      "image/png": "[encoded data removed]",
      "text/plain": [
       "<Figure size 432x288 with 1 Axes>"
      ]
     },
     "metadata": {
      "needs_background": "light"
     },
     "output_type": "display_data"
    },
    {
     "data": {
      "image/png": "[encoded data removed]",
      "text/plain": [
       "<Figure size 432x288 with 1 Axes>"
      ]
     },
     "metadata": {
      "needs_background": "light"
     },
     "output_type": "display_data"
    },
    {
     "data": {
      "image/png": "[encoded data removed]",
      "text/plain": [
       "<Figure size 432x288 with 1 Axes>"
      ]
     },
     "metadata": {
      "needs_background": "light"
     },
     "output_type": "display_data"
    },
    {
     "data": {
      "image/png": "[encoded data removed]",
      "text/plain": [
       "<Figure size 432x288 with 1 Axes>"
      ]
     },
     "metadata": {
      "needs_background": "light"
     },
     "output_type": "display_data"
    },
    {
     "data": {
      "image/png": "[encoded data removed]",
      "text/plain": [
       "<Figure size 432x288 with 1 Axes>"
      ]
     },
     "metadata": {
      "needs_background": "light"
     },
     "output_type": "display_data"
    },
    {
     "data": {
      "image/png": "[encoded data removed]",
      "text/plain": [
       "<Figure size 432x288 with 1 Axes>"
      ]
     },
     "metadata": {
      "needs_background": "light"
     },
     "output_type": "display_data"
    },
    {
     "data": {
      "image/png": "[encoded data removed]",
      "text/plain": [
       "<Figure size 432x288 with 1 Axes>"
      ]
     },
     "metadata": {
      "needs_background": "light"
     },
     "output_type": "display_data"
    },
    {
     "data": {
      "image/png": "[encoded data removed]",
      "text/plain": [
       "<Figure size 432x288 with 1 Axes>"
      ]
     },
     "metadata": {
      "needs_background": "light"
     },
     "output_type": "display_data"
    },
    {
     "data": {
      "image/png": "[encoded data removed]",
      "text/plain": [
       "<Figure size 432x288 with 1 Axes>"
      ]
     },
     "metadata": {
      "needs_background": "light"
     },
     "output_type": "display_data"
    },
    {
     "data": {
      "image/png": "[encoded data removed]",
      "text/plain": [
       "<Figure size 432x288 with 1 Axes>"
      ]
     },
     "metadata": {
      "needs_background": "light"
     },
     "output_type": "display_data"
    },
    {
     "data": {
      "image/png": "[encoded data removed]",
      "text/plain": [
       "<Figure size 432x288 with 1 Axes>"
      ]
     },
     "metadata": {
      "needs_background": "light"
     },
     "output_type": "display_data"
    },
    {
     "data": {
      "image/png": "[encoded data removed]",
      "text/plain": [
       "<Figure size 432x288 with 1 Axes>"
      ]
     },
     "metadata": {
      "needs_background": "light"
     },
     "output_type": "display_data"
    },
    {
     "data": {
      "image/png": "[encoded data removed]",
      "text/plain": [
       "<Figure size 432x288 with 1 Axes>"
      ]
     },
     "metadata": {
      "needs_background": "light"
     },
     "output_type": "display_data"
    },
    {
     "data": {
      "image/png": "[encoded data removed]",
      "text/plain": [
       "<Figure size 432x288 with 1 Axes>"
      ]
     },
     "metadata": {
      "needs_background": "light"
     },
     "output_type": "display_data"
    },
    {
     "data": {
      "image/png": "[encoded data removed]",
      "text/plain": [
       "<Figure size 432x288 with 1 Axes>"
      ]
     },
     "metadata": {
      "needs_background": "light"
     },
     "output_type": "display_data"
    },
    {
     "data": {
      "image/png": "[encoded data removed]",
      "text/plain": [
       "<Figure size 432x288 with 1 Axes>"
      ]
     },
     "metadata": {
      "needs_background": "light"
     },
     "output_type": "display_data"
    }
   ],
   "source": [
    "for i in range(len(stimuli)):\n",
    "    column = sort[i]\n",
    "    column = column.dropna(how='all', axis=0) #assert no nans present\n",
    "    plt.figure()\n",
    "    column.plot.hist(bins=(int(max(column)/3)), density=True, histtype='stepfilled', stacked=True) #probabilities\n",
    "    plt.title(\"Stimulus \" + str(i))\n",
    "    plt.xlabel('Time (secs)')\n",
    "    plt.ylabel('Probability of Boundary')"
   ]
  },
  {
   "cell_type": "markdown",
   "metadata": {},
   "source": [
    "Below are the Precision/Recall F1 Scores for each participant, written in a list, then converted into a Pandas DataFrame."
   ]
  },
  {
   "cell_type": "code",
   "execution_count": 10,
   "metadata": {},
   "outputs": [],
   "source": [
    "f1_scores = [0.7463, 0.8190, 0.8251, 0.7203, 0.7729, 0.7218, 0.6429, 0.7581, 0.7723, 0.8092, 0.7640, 0.7891, 0.7389, 0.7010, 0.7069]"
   ]
  },
  {
   "cell_type": "code",
   "execution_count": 11,
   "metadata": {},
   "outputs": [],
   "source": [
    "f1_scores_df = pd.DataFrame(f1_scores,columns=['Scores'])"
   ]
  },
  {
   "cell_type": "markdown",
   "metadata": {},
   "source": [
    "Here, summary statistics for the participants' F1 scores are shown.<br><br>\n",
    "The best, mid, and worst participant's:\n",
    "<ul>\n",
    "<li>Maximum f1_score is 0.8251 -- participant 3\n",
    "<li>Median f1_score is 0.7581 -- participant 8\n",
    "<li>Minimum f1_score is 0.6429 -- participant 7\n",
    "</ul>\n",
    "<br>\n",
    "The standard deviation from the mean F1 score is 0.049401 -- the participants did not vary significantly.<br>\n",
    "The variance is 0.0024404588."
   ]
  },
  {
   "cell_type": "code",
   "execution_count": 12,
   "metadata": {},
   "outputs": [
    {
     "data": {
      "text/html": [
       "<div>\n",
       "<style scoped>\n",
       "    .dataframe tbody tr th:only-of-type {\n",
       "        vertical-align: middle;\n",
       "    }\n",
       "\n",
       "    .dataframe tbody tr th {\n",
       "        vertical-align: top;\n",
       "    }\n",
       "\n",
       "    .dataframe thead th {\n",
       "        text-align: right;\n",
       "    }\n",
       "</style>\n",
       "<table border=\"1\" class=\"dataframe\">\n",
       "  <thead>\n",
       "    <tr style=\"text-align: right;\">\n",
       "      <th></th>\n",
       "      <th>Scores</th>\n",
       "    </tr>\n",
       "  </thead>\n",
       "  <tbody>\n",
       "    <tr>\n",
       "      <th>count</th>\n",
       "      <td>15.000000</td>\n",
       "    </tr>\n",
       "    <tr>\n",
       "      <th>mean</th>\n",
       "      <td>0.752520</td>\n",
       "    </tr>\n",
       "    <tr>\n",
       "      <th>std</th>\n",
       "      <td>0.049401</td>\n",
       "    </tr>\n",
       "    <tr>\n",
       "      <th>min</th>\n",
       "      <td>0.642900</td>\n",
       "    </tr>\n",
       "    <tr>\n",
       "      <th>25%</th>\n",
       "      <td>0.721050</td>\n",
       "    </tr>\n",
       "    <tr>\n",
       "      <th>50%</th>\n",
       "      <td>0.758100</td>\n",
       "    </tr>\n",
       "    <tr>\n",
       "      <th>75%</th>\n",
       "      <td>0.781000</td>\n",
       "    </tr>\n",
       "    <tr>\n",
       "      <th>max</th>\n",
       "      <td>0.825100</td>\n",
       "    </tr>\n",
       "  </tbody>\n",
       "</table>\n",
       "</div>"
      ],
      "text/plain": [
       "          Scores\n",
       "count  15.000000\n",
       "mean    0.752520\n",
       "std     0.049401\n",
       "min     0.642900\n",
       "25%     0.721050\n",
       "50%     0.758100\n",
       "75%     0.781000\n",
       "max     0.825100"
      ]
     },
     "execution_count": 12,
     "metadata": {},
     "output_type": "execute_result"
    }
   ],
   "source": [
    "f1_scores_df.describe()"
   ]
  },
  {
   "cell_type": "markdown",
   "metadata": {},
   "source": [
    "This can be can seen when the DataFrame is sorted in ascending order of each participant's f1_score."
   ]
  },
  {
   "cell_type": "code",
   "execution_count": 13,
   "metadata": {},
   "outputs": [
    {
     "data": {
      "text/html": [
       "<div>\n",
       "<style scoped>\n",
       "    .dataframe tbody tr th:only-of-type {\n",
       "        vertical-align: middle;\n",
       "    }\n",
       "\n",
       "    .dataframe tbody tr th {\n",
       "        vertical-align: top;\n",
       "    }\n",
       "\n",
       "    .dataframe thead th {\n",
       "        text-align: right;\n",
       "    }\n",
       "</style>\n",
       "<table border=\"1\" class=\"dataframe\">\n",
       "  <thead>\n",
       "    <tr style=\"text-align: right;\">\n",
       "      <th></th>\n",
       "      <th>Scores</th>\n",
       "    </tr>\n",
       "  </thead>\n",
       "  <tbody>\n",
       "    <tr>\n",
       "      <th>6</th>\n",
       "      <td>0.6429</td>\n",
       "    </tr>\n",
       "    <tr>\n",
       "      <th>13</th>\n",
       "      <td>0.7010</td>\n",
       "    </tr>\n",
       "    <tr>\n",
       "      <th>14</th>\n",
       "      <td>0.7069</td>\n",
       "    </tr>\n",
       "    <tr>\n",
       "      <th>3</th>\n",
       "      <td>0.7203</td>\n",
       "    </tr>\n",
       "    <tr>\n",
       "      <th>5</th>\n",
       "      <td>0.7218</td>\n",
       "    </tr>\n",
       "    <tr>\n",
       "      <th>12</th>\n",
       "      <td>0.7389</td>\n",
       "    </tr>\n",
       "    <tr>\n",
       "      <th>0</th>\n",
       "      <td>0.7463</td>\n",
       "    </tr>\n",
       "    <tr>\n",
       "      <th>7</th>\n",
       "      <td>0.7581</td>\n",
       "    </tr>\n",
       "    <tr>\n",
       "      <th>10</th>\n",
       "      <td>0.7640</td>\n",
       "    </tr>\n",
       "    <tr>\n",
       "      <th>8</th>\n",
       "      <td>0.7723</td>\n",
       "    </tr>\n",
       "    <tr>\n",
       "      <th>4</th>\n",
       "      <td>0.7729</td>\n",
       "    </tr>\n",
       "    <tr>\n",
       "      <th>11</th>\n",
       "      <td>0.7891</td>\n",
       "    </tr>\n",
       "    <tr>\n",
       "      <th>9</th>\n",
       "      <td>0.8092</td>\n",
       "    </tr>\n",
       "    <tr>\n",
       "      <th>1</th>\n",
       "      <td>0.8190</td>\n",
       "    </tr>\n",
       "    <tr>\n",
       "      <th>2</th>\n",
       "      <td>0.8251</td>\n",
       "    </tr>\n",
       "  </tbody>\n",
       "</table>\n",
       "</div>"
      ],
      "text/plain": [
       "    Scores\n",
       "6   0.6429\n",
       "13  0.7010\n",
       "14  0.7069\n",
       "3   0.7203\n",
       "5   0.7218\n",
       "12  0.7389\n",
       "0   0.7463\n",
       "7   0.7581\n",
       "10  0.7640\n",
       "8   0.7723\n",
       "4   0.7729\n",
       "11  0.7891\n",
       "9   0.8092\n",
       "1   0.8190\n",
       "2   0.8251"
      ]
     },
     "execution_count": 13,
     "metadata": {},
     "output_type": "execute_result"
    }
   ],
   "source": [
    "f1_scores_df_sorted = f1_scores_df.sort_values('Scores')\n",
    "f1_scores_df_sorted"
   ]
  },
  {
   "cell_type": "markdown",
   "metadata": {},
   "source": [
    "## Compute quantitative descriptions of the data\n",
    "\n",
    "The computation below finds the average phrase lengths for each participant and stimuli.\n",
    "<br><br>\n",
    "The averages found:<br>\n",
    "<ul>\n",
    "<li>Each participant's average phrase length for each stimulus</li>\n",
    "<li>Each participant's total average phrase length, considering every stimulus</li>\n",
    "<li>The total average phrase length of each stimulus, considering every participant</li>\n",
    "<li>The total average phrase length, considering every participant and every stimulus</li>\n",
    "</ul>\n",
    "<br>\n",
    "The standard deviations found:<br>\n",
    "<ul>\n",
    "<li>Each participant's standard deviation of phrase lengths for each stimulus</li>\n",
    "<li>Each participant's total standard deviation of phrase lengths, considering every stimulus</li>\n",
    "<li>The total standard deviation of phrase lengths of each stimulus, considering every participant</li>\n",
    "<li>The total standard deviation of phrase lengths, considering every participant and every stimulus</li>\n",
    "</ul>\n",
    "The variances found:<br>\n",
    "<ul>\n",
    "<li>Each participant's variance of phrase lengths for each stimulus</li>\n",
    "<li>Each participant's total variance of phrase lengths, considering every stimulus</li>\n",
    "<li>The total variance of phrase lengths of each stimulus, considering every participant</li>\n",
    "<li>The total variance of phrase lengths, considering every participant and every stimulus</li>\n",
    "</ul>"
   ]
  },
  {
   "cell_type": "code",
   "execution_count": 14,
   "metadata": {},
   "outputs": [],
   "source": [
    "#participants' data\n",
    "data1 = pd.read_csv(\"participant1_marks.csv\")\n",
    "data2 = pd.read_csv(\"participant2_marks.csv\")\n",
    "data3 = pd.read_csv(\"participant3_marks.csv\")\n",
    "data4 = pd.read_csv(\"participant4_marks.csv\")\n",
    "data5 = pd.read_csv(\"participant5_marks.csv\")\n",
    "data6 = pd.read_csv(\"participant6_marks.csv\")\n",
    "data7 = pd.read_csv(\"participant7_marks.csv\")\n",
    "data8 = pd.read_csv(\"participant8_marks.csv\")\n",
    "data9 = pd.read_csv(\"participant9_marks.csv\")\n",
    "data10 = pd.read_csv(\"participant10_marks.csv\")\n",
    "data11 = pd.read_csv(\"participant11_marks.csv\")\n",
    "data12 = pd.read_csv(\"participant12_marks.csv\")\n",
    "data13 = pd.read_csv(\"participant13_marks.csv\")\n",
    "data14 = pd.read_csv(\"participant14_marks.csv\")\n",
    "data15 = pd.read_csv(\"participant15_marks.csv\")\n",
    "data16 = pd.read_csv(\"participant16_marks.csv\")\n",
    "part_data = [data1, data2, data3, data4, data5, data6, data7, data8,\n",
    "             data9, data10, data11, data12, data13, data14, data15, data16]"
   ]
  },
  {
   "cell_type": "code",
   "execution_count": 15,
   "metadata": {},
   "outputs": [
    {
     "name": "stdout",
     "output_type": "stream",
     "text": [
      "Averages, Standard Deviations, and Variances for every participant and every stimulus\n",
      "---\n",
      "\n",
      "Participant 1 :\n",
      "Stimulus 0 Average: 14.207509542857142\n",
      "Stimulus 1 Average: 14.204618985714287\n",
      "Stimulus 2 Average: 9.317469388888888\n",
      "Stimulus 3 Average: 8.40781368\n",
      "Stimulus 4 Average: 8.863924775000001\n",
      "Stimulus 5 Average: 8.0123604\n",
      "Stimulus 6 Average: 11.619468525000002\n",
      "Stimulus 7 Average: 11.696901791666667\n",
      "Stimulus 8 Average: 19.310796900000003\n",
      "Stimulus 9 Average: 33.71732585\n",
      "Stimulus 10 Average: 23.88017845\n",
      "Stimulus 11 Average: 11.9051755375\n",
      "Stimulus 12 Average: 10.7706696\n",
      "Stimulus 13 Average: 11.593449171428572\n",
      "Stimulus 14 Average: 15.941464299999998\n",
      "Stimulus 15 Average: 22.29429286\n",
      "Stimulus 16 Average: 25.230928633333335\n",
      "Stimulus 17 Average: 25.5094072\n",
      "Stimulus 18 Average: 20.7907338\n",
      "Stimulus 19 Average: 41.81520820000001\n",
      "Participant 1 Average: 17.454484879569446\n",
      "Participant 1 Standard Deviation: 8.87125973221457\n",
      "Participant 1 Variance: 78.69924923641172 \n",
      "\n",
      "Participant 2 :\n",
      "Stimulus 0 Average: 14.285650500000001\n",
      "Stimulus 1 Average: 14.234365642857142\n",
      "Stimulus 2 Average: 7.23496748\n",
      "Stimulus 3 Average: 12.84096625\n",
      "Stimulus 4 Average: 7.108901810000001\n",
      "Stimulus 5 Average: 5.914229758333334\n",
      "Stimulus 6 Average: 4.784812233333333\n",
      "Stimulus 7 Average: 3.9783697472222226\n",
      "Stimulus 8 Average: 8.505033156249999\n",
      "Stimulus 9 : Average unknown\n",
      "Stimulus 10 Average: 5.660557294444444\n",
      "Stimulus 11 Average: 5.999410164705883\n",
      "Stimulus 12 Average: 6.585745753846154\n",
      "Stimulus 13 Average: 6.147846914285714\n",
      "Stimulus 14 Average: 6.514781144444444\n",
      "Stimulus 15 Average: 4.35533722962963\n",
      "Stimulus 16 Average: 4.9557934\n",
      "Stimulus 17 Average: 6.275613541666666\n",
      "Stimulus 18 Average: 5.215909917647059\n",
      "Stimulus 19 Average: 4.284235642105263\n",
      "Participant 2 Average: 7.0990803989879625\n",
      "Participant 2 Standard Deviation: 3.104157810704047\n",
      "Participant 2 Variance: 9.635795713754941 \n",
      "\n",
      "Participant 3 :\n",
      "Stimulus 0 Average: 14.18378307142857\n",
      "Stimulus 1 Average: 14.182220814285715\n",
      "Stimulus 2 Average: 9.313189511111112\n",
      "Stimulus 3 Average: 6.303990246153846\n",
      "Stimulus 4 Average: 5.439104938461539\n",
      "Stimulus 5 Average: 4.938028946153845\n",
      "Stimulus 6 Average: 4.772776110344827\n",
      "Stimulus 7 Average: 4.233482250000001\n",
      "Stimulus 8 Average: 15.091726044444446\n",
      "Stimulus 9 : Average unknown\n",
      "Stimulus 10 Average: 7.279514176923077\n",
      "Stimulus 11 Average: 8.595782263636364\n",
      "Stimulus 12 Average: 10.154833925\n",
      "Stimulus 13 Average: 7.129791125000001\n",
      "Stimulus 14 Average: 7.843683400000001\n",
      "Stimulus 15 Average: 7.323858586666666\n",
      "Stimulus 16 Average: 12.546957216666668\n",
      "Stimulus 17 Average: 10.751621714285715\n",
      "Stimulus 18 Average: 16.732590119999998\n",
      "Stimulus 19 Average: 11.736475814285715\n",
      "Participant 3 Average: 9.397547909202531\n",
      "Participant 3 Standard Deviation: 3.6992189319454263\n",
      "Participant 3 Variance: 13.68422070646346 \n",
      "\n",
      "Participant 4 :\n",
      "Stimulus 0 Average: 14.21115237142857\n",
      "Stimulus 1 Average: 14.228222085714284\n",
      "Stimulus 2 Average: 4.941463123529411\n",
      "Stimulus 3 Average: 7.650529570000001\n",
      "Stimulus 4 Average: 5.651679636363636\n",
      "Stimulus 5 Average: 7.1211559499999995\n",
      "Stimulus 6 Average: 10.157311530769231\n",
      "Stimulus 7 Average: 11.029507650000001\n",
      "Stimulus 8 Average: 13.39387314\n",
      "Stimulus 9 Average: 11.59362579\n",
      "Stimulus 10 Average: 8.584360636363638\n",
      "Stimulus 11 Average: 5.959343641176471\n",
      "Stimulus 12 Average: 5.878354538461538\n",
      "Stimulus 13 Average: 6.591752738461538\n",
      "Stimulus 14 Average: 13.0174086\n",
      "Stimulus 15 Average: 6.890600623529411\n",
      "Stimulus 16 Average: 3.8235929611111112\n",
      "Stimulus 17 Average: 4.919240492857144\n",
      "Stimulus 18 Average: 13.730254083333334\n",
      "Stimulus 19 Average: 8.021849709090908\n",
      "Participant 4 Average: 8.869763943609511\n",
      "Participant 4 Standard Deviation: 3.3985897791041824\n",
      "Participant 4 Variance: 11.550412486631414 \n",
      "\n",
      "Participant 5 :\n",
      "Stimulus 0 Average: 14.20110072857143\n",
      "Stimulus 1 Average: 14.211469571428571\n",
      "Stimulus 2 Average: 8.37079792\n",
      "Stimulus 3 Average: 8.40741821\n",
      "Stimulus 4 Average: 10.055690514285713\n",
      "Stimulus 5 Average: 8.808262675000002\n",
      "Stimulus 6 Average: 8.7261250625\n",
      "Stimulus 7 Average: 6.221506004347826\n",
      "Stimulus 8 Average: 16.4900076125\n",
      "Stimulus 9 Average: 14.64340371111111\n",
      "Stimulus 10 Average: 8.4488136\n",
      "Stimulus 11 Average: 12.6870371875\n",
      "Stimulus 12 Average: 7.776294645454545\n",
      "Stimulus 13 Average: 8.58580644\n",
      "Stimulus 14 Average: 9.068265746153847\n",
      "Stimulus 15 Average: 7.852598013333334\n",
      "Stimulus 16 Average: 8.271237922222221\n",
      "Stimulus 17 Average: 8.308115622222223\n",
      "Stimulus 18 Average: 12.773829928571429\n",
      "Stimulus 19 Average: 11.034778875\n",
      "Participant 5 Average: 10.247127999510113\n",
      "Participant 5 Standard Deviation: 2.8020172799640917\n",
      "Participant 5 Variance: 7.851300837217366 \n",
      "\n",
      "Participant 6 :\n",
      "Stimulus 0 Average: 14.189860285714285\n",
      "Stimulus 1 Average: 16.54589675\n",
      "Stimulus 2 Average: 5.590031946666667\n",
      "Stimulus 3 Average: 6.4482582846153855\n",
      "Stimulus 4 Average: 7.953019975\n",
      "Stimulus 5 Average: 9.66055045\n",
      "Stimulus 6 Average: 11.036235083333333\n",
      "Stimulus 7 Average: 10.240853414285715\n",
      "Stimulus 8 Average: 27.90007832\n",
      "Stimulus 9 Average: 34.655713266666666\n",
      "Stimulus 10 Average: 15.459774825\n",
      "Stimulus 11 Average: 34.35141266666667\n",
      "Stimulus 12 Average: 10.7262823875\n",
      "Stimulus 13 Average: 28.522456699999996\n",
      "Stimulus 14 Average: 16.80229114285714\n",
      "Stimulus 15 Average: 58.834912800000005\n",
      "Stimulus 16 Average: 11.238892666666667\n",
      "Stimulus 17 Average: 22.41237596666667\n",
      "Stimulus 18 Average: 27.840395933333337\n",
      "Stimulus 19 Average: 16.551024919999996\n",
      "Participant 6 Average: 19.34801588924863\n",
      "Participant 6 Standard Deviation: 12.634950128349109\n",
      "Participant 6 Variance: 159.64196474586916 \n",
      "\n",
      "Participant 7 :\n",
      "Stimulus 0 Average: 14.200909957142857\n",
      "Stimulus 1 Average: 14.22411995\n",
      "Stimulus 2 Average: 16.80674704\n",
      "Stimulus 3 Average: 16.8013244\n",
      "Stimulus 4 Average: 16.799302633333333\n",
      "Stimulus 5 Average: 12.584755125000001\n",
      "Stimulus 6 Average: 24.75497108\n",
      "Stimulus 7 Average: 20.670168933333333\n",
      "Stimulus 8 : Average unknown\n",
      "Stimulus 9 Average: 26.954611019999998\n",
      "Stimulus 10 Average: 25.8498034\n",
      "Stimulus 11 Average: 25.33187995\n",
      "Stimulus 12 Average: 21.5462202\n",
      "Stimulus 13 Average: 21.417477075\n",
      "Stimulus 14 Average: 14.032840014285714\n",
      "Stimulus 15 Average: 23.650578760000002\n",
      "Stimulus 16 Average: 24.876006266666664\n",
      "Stimulus 17 Average: 12.453693283333335\n",
      "Stimulus 18 Average: 41.079871999999995\n",
      "Stimulus 19 Average: 27.43925516666667\n",
      "Participant 7 Average: 21.13023875025063\n",
      "Participant 7 Standard Deviation: 6.8679717845235\n",
      "Participant 7 Variance: 47.16903643301091 \n",
      "\n",
      "Participant 8 :\n",
      "Stimulus 0 Average: 14.203588342857143\n",
      "Stimulus 1 Average: 14.184096642857144\n",
      "Stimulus 2 Average: 16.79016514\n",
      "Stimulus 3 Average: 10.52516855\n",
      "Stimulus 4 Average: 8.869502325\n",
      "Stimulus 5 Average: 14.216230480000002\n",
      "Stimulus 6 Average: 13.17745874\n",
      "Stimulus 7 Average: 12.7217604\n",
      "Stimulus 8 Average: 27.236257419999998\n",
      "Stimulus 9 Average: 26.915992339999995\n",
      "Stimulus 10 Average: 14.501064271428573\n",
      "Stimulus 11 Average: 14.521022185714285\n",
      "Stimulus 12 Average: 17.12156092\n",
      "Stimulus 13 Average: 17.17996228\n",
      "Stimulus 14 Average: 15.768959657142856\n",
      "Stimulus 15 Average: 13.2443247\n",
      "Stimulus 16 Average: 14.864765299999998\n",
      "Stimulus 17 Average: 15.056928525000002\n",
      "Stimulus 18 Average: 16.31206166\n",
      "Stimulus 19 Average: 16.48325066\n",
      "Participant 8 Average: 15.694706027\n",
      "Participant 8 Standard Deviation: 4.304944954883041\n",
      "Participant 8 Variance: 18.53255106457295 \n",
      "\n",
      "Participant 9 :\n",
      "Stimulus 0 Average: 14.240915714285714\n",
      "Stimulus 1 Average: 14.241165114285712\n",
      "Stimulus 2 Average: 4.905819776470588\n",
      "Stimulus 3 Average: 4.76299419375\n",
      "Stimulus 4 Average: 5.422071869230769\n",
      "Stimulus 5 Average: 5.894487566666665\n",
      "Stimulus 6 Average: 6.979337868421053\n",
      "Stimulus 7 Average: 9.528373713333332\n",
      "Stimulus 8 Average: 16.6613256625\n",
      "Stimulus 9 Average: 27.4617906\n",
      "Stimulus 10 Average: 9.48508967\n",
      "Stimulus 11 Average: 9.590576633333335\n",
      "Stimulus 12 Average: 9.526776333333334\n",
      "Stimulus 13 Average: 9.497011399999998\n",
      "Stimulus 14 Average: 16.809956614285714\n",
      "Stimulus 15 Average: 9.140476592307692\n",
      "Stimulus 16 Average: 12.765603633333333\n",
      "Stimulus 17 Average: 9.5135674625\n",
      "Stimulus 18 Average: 20.990124075\n",
      "Stimulus 19 Average: 10.385795137499999\n",
      "Participant 9 Average: 11.390162981526863\n",
      "Participant 9 Standard Deviation: 5.585635148448086\n",
      "Participant 9 Variance: 31.19932001157867 \n",
      "\n",
      "Participant 10 :\n",
      "Stimulus 0 Average: 14.219813542857143\n",
      "Stimulus 1 Average: 14.233948828571428\n",
      "Stimulus 2 Average: 8.36696613\n",
      "Stimulus 3 Average: 8.33363073\n",
      "Stimulus 4 Average: 9.0532264\n",
      "Stimulus 5 Average: 12.60399206\n",
      "Stimulus 6 Average: 9.358488466666667\n",
      "Stimulus 7 Average: 7.529091573684211\n",
      "Stimulus 8 Average: 18.74050152857143\n",
      "Stimulus 9 Average: 19.368847842857146\n",
      "Stimulus 10 Average: 7.919990883333333\n",
      "Stimulus 11 Average: 8.432683708333334\n",
      "Stimulus 12 Average: 9.535436966666667\n",
      "Stimulus 13 Average: 14.302811166666666\n",
      "Stimulus 14 Average: 14.589463037500002\n",
      "Stimulus 15 Average: 16.699345857142855\n"
     ]
    },
    {
     "name": "stdout",
     "output_type": "stream",
     "text": [
      "Stimulus 16 Average: 14.824567819999999\n",
      "Stimulus 17 Average: 14.74382584\n",
      "Stimulus 18 Average: 12.540515428571428\n",
      "Stimulus 19 Average: 10.9852838375\n",
      "Participant 10 Average: 12.319121582446115\n",
      "Participant 10 Standard Deviation: 3.5821687720012245\n",
      "Participant 10 Variance: 12.831933111100762 \n",
      "\n",
      "Participant 11 :\n",
      "Stimulus 0 Average: 14.5943218\n",
      "Stimulus 1 Average: 25.264781325\n",
      "Stimulus 2 Average: 10.5401130875\n",
      "Stimulus 3 Average: 16.78227592\n",
      "Stimulus 4 Average: 18.078176525\n",
      "Stimulus 5 Average: 24.13106253333333\n",
      "Stimulus 6 Average: 17.5329458625\n",
      "Stimulus 7 Average: 12.824642672727276\n",
      "Stimulus 8 : Average unknown\n",
      "Stimulus 9 Average: 22.712422266666664\n",
      "Stimulus 10 Average: 14.498187685714285\n",
      "Stimulus 11 Average: 17.05250315\n",
      "Stimulus 12 Average: 26.152087433333335\n",
      "Stimulus 13 Average: 28.732700766666664\n",
      "Stimulus 14 Average: 23.6244233\n",
      "Stimulus 15 Average: 29.584014075000002\n",
      "Stimulus 16 Average: 38.31244\n",
      "Stimulus 17 Average: 19.075462525\n",
      "Stimulus 18 Average: 42.18274905\n",
      "Stimulus 19 Average: 28.665139300000003\n",
      "Participant 11 Average: 22.64949733044429\n",
      "Participant 11 Standard Deviation: 8.177340129195452\n",
      "Participant 11 Variance: 66.86889158855028 \n",
      "\n",
      "Participant 12 :\n",
      "Stimulus 0 Average: 14.228371885714285\n",
      "Stimulus 1 Average: 14.200763085714286\n",
      "Stimulus 2 Average: 5.988442314285715\n",
      "Stimulus 3 Average: 7.6260824909090905\n",
      "Stimulus 4 Average: 11.825530916666667\n",
      "Stimulus 5 Average: 14.732654019999998\n",
      "Stimulus 6 Average: 13.221176689999998\n",
      "Stimulus 7 Average: 11.977498245454546\n",
      "Stimulus 8 Average: 13.51469251\n",
      "Stimulus 9 Average: 10.589418518181818\n",
      "Stimulus 10 Average: 11.272181077777779\n",
      "Stimulus 11 Average: 14.488688600000001\n",
      "Stimulus 12 Average: 17.1473805\n",
      "Stimulus 13 Average: 28.586114933333334\n",
      "Stimulus 14 Average: 13.111528433333335\n",
      "Stimulus 15 Average: 14.682928812499998\n",
      "Stimulus 16 Average: 19.103611100000002\n",
      "Stimulus 17 Average: 20.3595864\n",
      "Stimulus 18 Average: 41.2051037\n",
      "Stimulus 19 Average: 29.781155333333334\n",
      "Participant 12 Average: 16.382145478360208\n",
      "Participant 12 Standard Deviation: 8.063782674694385\n",
      "Participant 12 Variance: 65.02459102470134 \n",
      "\n",
      "Participant 13 :\n",
      "Stimulus 0 Average: 14.100173985714287\n",
      "Stimulus 1 Average: 14.1294636\n",
      "Stimulus 2 Average: 11.9288201\n",
      "Stimulus 3 Average: 17.897590125\n",
      "Stimulus 4 Average: 15.461855175000002\n",
      "Stimulus 5 Average: 10.411256714285713\n",
      "Stimulus 6 Average: 12.692432536363638\n",
      "Stimulus 7 Average: 6.092283960869565\n",
      "Stimulus 8 Average: 12.362571618181818\n",
      "Stimulus 9 Average: 13.51549314\n",
      "Stimulus 10 Average: 10.12592187\n",
      "Stimulus 11 Average: 6.337584650000001\n",
      "Stimulus 12 Average: 7.799513572727273\n",
      "Stimulus 13 Average: 7.695381450000001\n",
      "Stimulus 14 Average: 11.74386893\n",
      "Stimulus 15 Average: 8.536967078571427\n",
      "Stimulus 16 Average: 4.6389994125\n",
      "Stimulus 17 Average: 5.686628792307692\n",
      "Stimulus 18 Average: 12.453495328571426\n",
      "Stimulus 19 Average: 17.52614504\n",
      "Participant 13 Average: 11.056822354004641\n",
      "Participant 13 Standard Deviation: 3.7871602981691264\n",
      "Participant 13 Variance: 14.342583124028465 \n",
      "\n",
      "Participant 14 :\n",
      "Stimulus 0 Average: 14.198738128571431\n",
      "Stimulus 1 Average: 14.220439057142858\n",
      "Stimulus 2 Average: 16.3131717\n",
      "Stimulus 3 Average: 9.621837775\n",
      "Stimulus 4 : Average unknown\n",
      "Stimulus 5 Average: 12.0669744\n",
      "Stimulus 6 : Average unknown\n",
      "Stimulus 7 Average: 8.959142875000001\n",
      "Stimulus 8 : Average unknown\n",
      "Stimulus 9 Average: 13.61897511\n",
      "Stimulus 10 Average: 12.6332818125\n",
      "Stimulus 11 Average: 11.961417212499999\n",
      "Stimulus 12 Average: 14.287542299999998\n",
      "Stimulus 13 Average: 11.01780702857143\n",
      "Stimulus 14 Average: 9.793434225\n",
      "Stimulus 15 Average: 8.560692584615383\n",
      "Stimulus 16 Average: 10.4859841\n",
      "Stimulus 17 Average: 10.138910433333335\n",
      "Stimulus 18 Average: 40.01236745\n",
      "Stimulus 19 Average: 16.4681565\n",
      "Participant 14 Average: 13.785816040719672\n",
      "Participant 14 Standard Deviation: 6.967959560137787\n",
      "Participant 14 Variance: 48.55246043171559 \n",
      "\n",
      "Participant 15 :\n",
      "Stimulus 0 : Average unknown\n",
      "Stimulus 1 Average: 12.4118433875\n",
      "Stimulus 2 : Average unknown\n",
      "Stimulus 3 Average: 5.233346912499999\n",
      "Stimulus 4 : Average unknown\n",
      "Stimulus 5 Average: 6.661030018181819\n",
      "Stimulus 6 : Average unknown\n",
      "Stimulus 7 Average: 7.951547600000001\n",
      "Stimulus 8 : Average unknown\n",
      "Stimulus 9 Average: 15.018373244444442\n",
      "Stimulus 10 : Average unknown\n",
      "Stimulus 11 Average: 8.628766918181817\n",
      "Stimulus 12 : Average unknown\n",
      "Stimulus 13 Average: 10.7733661375\n",
      "Stimulus 14 : Average unknown\n",
      "Stimulus 15 Average: 10.073149572727273\n",
      "Stimulus 16 : Average unknown\n",
      "Stimulus 17 Average: 8.526142266666666\n",
      "Stimulus 18 : Average unknown\n",
      "Stimulus 19 Average: 12.687781142857144\n",
      "Participant 15 Average: 9.796534720055917\n",
      "Participant 15 Standard Deviation: 2.837835214972451\n",
      "Participant 15 Variance: 8.053308707337738 \n",
      "\n",
      "Participant 16 :\n",
      "Stimulus 0 Average: 14.210691014285713\n",
      "Stimulus 1 Average: 14.201600428571428\n",
      "Stimulus 2 Average: 11.921469457142859\n",
      "Stimulus 3 Average: 13.902448966666666\n",
      "Stimulus 4 Average: 10.415004157142857\n",
      "Stimulus 5 Average: 9.979243879999999\n",
      "Stimulus 6 Average: 11.917723575000002\n",
      "Stimulus 7 Average: 12.08717218181818\n",
      "Stimulus 8 Average: 12.282449572727275\n",
      "Stimulus 9 : Average unknown\n",
      "Stimulus 10 Average: 13.595178285714285\n",
      "Stimulus 11 Average: 16.943004583333334\n",
      "Stimulus 12 Average: 17.122497080000002\n",
      "Stimulus 13 Average: 21.385676975\n",
      "Stimulus 14 Average: 16.68582824285714\n",
      "Stimulus 15 Average: 16.797630914285715\n",
      "Stimulus 16 Average: 12.344522333333332\n",
      "Stimulus 17 Average: 18.489017575\n",
      "Stimulus 18 Average: 41.02492015\n",
      "Stimulus 19 Average: 13.9453422\n",
      "Participant 16 Average: 15.750074819625198\n",
      "Participant 16 Standard Deviation: 6.599803688529484\n",
      "Participant 16 Variance: 43.55740872712738 \n",
      "\n",
      "\n",
      "---\n",
      "Averages, Standard Deviations, and Variances for every stimulus, considering every participant\n",
      "---\n",
      "\n",
      "15\n",
      "Stimulus 0 Average: 14.231772058095238 :: Standard Deviation: 0.10366548165160877 :: Variance: 0.010746532086060034\n",
      "16\n",
      "Stimulus 1 Average: 14.932438454352681 :: Standard Deviation: 2.76765004676579 :: Variance: 7.6598867813626805\n",
      "15\n",
      "Stimulus 2 Average: 9.888642274373016 :: Standard Deviation: 4.006630604370143 :: Variance: 16.053088799875457\n",
      "16\n",
      "Stimulus 3 Average: 10.096604769037185 :: Standard Deviation: 4.1354044631388716 :: Variance: 17.1015700737489\n",
      "14\n",
      "Stimulus 4 Average: 10.07121368932032 :: Standard Deviation: 3.9770496568580374 :: Variance: 15.816923973114632\n",
      "16\n",
      "Stimulus 5 Average: 10.483517186059672 :: Standard Deviation: 4.597006771486737 :: Variance: 21.132471257094913\n",
      "14\n",
      "Stimulus 6 Average: 11.480804526016579 :: Standard Deviation: 4.960965716938905 :: Variance: 24.611180844643147\n",
      "16\n",
      "Stimulus 7 Average: 9.85889393835893 :: Standard Deviation: 3.967461840561368 :: Variance: 15.7407534563106\n",
      "12\n",
      "Stimulus 8 Average: 16.790776123764584 :: Standard Deviation: 5.601560888409247 :: Variance: 31.37748438655619\n",
      "13\n",
      "Stimulus 9 Average: 20.828153284609833 :: Standard Deviation: 8.082139599800618 :: Variance: 65.32098051066528\n",
      "15\n",
      "Stimulus 10 Average: 12.612926529279965 :: Standard Deviation: 5.588647008842554 :: Variance: 31.23297538944483\n",
      "16\n",
      "Stimulus 11 Average: 13.299143065786344 :: Standard Deviation: 7.328700204947995 :: Variance: 53.70984669400478\n",
      "15\n",
      "Stimulus 12 Average: 12.808746410421524 :: Standard Deviation: 5.696789710531198 :: Variance: 32.45341300601414\n",
      "16\n",
      "Stimulus 13 Average: 14.94746326886962 :: Standard Deviation: 8.001132634609647 :: Variance: 64.0181234366155\n",
      "15\n",
      "Stimulus 14 Average: 13.689879785857345 :: Standard Deviation: 4.196722900970208 :: Variance: 17.612483107527797\n",
      "16\n",
      "Stimulus 15 Average: 16.157606816269332 :: Standard Deviation: 12.94463364813199 :: Variance: 167.56354028435092\n",
      "15\n",
      "Stimulus 16 Average: 14.552260184388889 :: Standard Deviation: 8.909049303573259 :: Variance: 79.37115949349915\n",
      "16\n",
      "Stimulus 17 Average: 13.263758602552464 :: Standard Deviation: 6.144948513580576 :: Variance: 37.76039223455612\n",
      "15\n",
      "Stimulus 18 Average: 24.3256615083352 :: Standard Deviation: 12.801062894851707 :: Variance: 163.86721123794916\n",
      "16\n",
      "Stimulus 19 Average: 17.36317984239619 :: Standard Deviation: 9.47549798175529 :: Variance: 89.78506200224857\n",
      "\n",
      "---\n",
      "Total Average for every participant/stimulus: 14.013488700529818\n",
      "Total Standard Deviation for every participant/stimulus: 7.810420174218359\n",
      "Total Variance for every participant/stimulus: 61.002663297837145\n"
     ]
    }
   ],
   "source": [
    "stimulus_asv = [] #used to find average phrase length, standard deviation, and variance for each stimulus\n",
    "total = [] #used to find total average phrase length, standard deviation, and variance for every participant/stimulus\n",
    "\n",
    "#loops through each participant's whole data\n",
    "print(\"Averages, Standard Deviations, and Variances for every participant and every stimulus\\n---\\n\")\n",
    "for s in range(len(part_data)):\n",
    "    print(\"Participant\", s+1, \":\")\n",
    "    dat = part_data[s]\n",
    "    s_asv = [] #used to find particular participant's average phrase length, standard deviation, and variance for each stimulus\n",
    "        \n",
    "    #loops through each stimulus for each participant\n",
    "    for i in range(0, len(stimuli)):\n",
    "        column = dat[stimuli[i]] #column is all phrase markings from stimulus i\n",
    "        column = column.replace(0, np.nan) #replace extraneous zeros with nan values\n",
    "        column = column.dropna(how='all', axis=0) #drop nan values\n",
    "        s_local_dist = [] #used to find distances between each datum\n",
    "            \n",
    "        #condition to assert that the column is not empty (i.e. no nans or zeros)\n",
    "        if len(column) > 0:\n",
    "            s_local_dist.append(column[0])\n",
    "                \n",
    "            #loops through each column of each stimulus\n",
    "            for j in range(0, len(column)-1):\n",
    "                if column[j+1] > 0: #do not consider missing values\n",
    "                    s_local_dist.append(column[j+1] - column[j]) #distance between two data\n",
    "                \n",
    "            #average phrase length for this participant/stimulus\n",
    "            s_asv.append(sum(s_local_dist)/len(s_local_dist)) #append this local distance average to s_asv\n",
    "            total.append(sum(s_local_dist)/len(s_local_dist)) #append this local distance to total\n",
    "            print(\"Stimulus\", i, \"Average:\", s_asv[i])\n",
    "        elif len(column) == 0:\n",
    "            s_asv.append(np.nan) #if no data in column, ignore\n",
    "            print(\"Stimulus\", i, \":\", \"Average unknown\")\n",
    "    \n",
    "    #append the averages of participant s to list\n",
    "    stimulus_asv.append(s_asv) #list of lists\n",
    "    \n",
    "    #prints average phrase length for each participant\n",
    "    if len(s_asv) != 0:\n",
    "        s_asv = [x for x in s_asv if str(x) != 'nan'] #drops nans to clean list\n",
    "        part_avg = sum(s_asv)/len(s_asv) #find average phrase length for each participant\n",
    "        part_std = np.std(s_asv)\n",
    "        part_var = np.var(s_asv)\n",
    "    \n",
    "    print(\"Participant\", s+1, \"Average:\", part_avg)\n",
    "    print(\"Participant\", s+1, \"Standard Deviation:\", part_std)\n",
    "    print(\"Participant\", s+1, \"Variance:\", part_var, \"\\n\")\n",
    "    \n",
    "    \n",
    "#prints averages and standard deviations for every stimuli's phrase length\n",
    "print(\"\\n---\\nAverages, Standard Deviations, and Variances for every stimulus, considering every participant\\n---\\n\")\n",
    "for a in range(len(stimuli)): #loop through all stimuli\n",
    "    stimulus_aux_asv = [] #holds all participants' average, sd, and var of phrase lengths for each stimulus\n",
    "    for b in range(len(stimulus_asv)): #loop through each participant\n",
    "        stimulus_aux_asv.append(stimulus_asv[b][a]) #appends average for each participants' average for stimulus a\n",
    "        stimulus_aux_asv = [v for v in stimulus_aux_asv if str(v) != 'nan'] #drops nans to clean list\n",
    "        \n",
    "        #find the average phrase length given each participants' average phrase lengths on stimulus a\n",
    "        avg = sum(stimulus_aux_asv)/len(stimulus_aux_asv)\n",
    "    \n",
    "    print(len(stimulus_aux_asv))\n",
    "    std = np.std(stimulus_aux_asv)\n",
    "    var = np.var(stimulus_aux_asv)\n",
    "            \n",
    "    #print format to display the averages and standard deviations of phrase lengths for each stimulus\n",
    "    print(\"Stimulus\", a, \"Average:\", avg, \":: Standard Deviation:\", std, \":: Variance:\", var)\n",
    "\n",
    "\n",
    "#get total average of every phrase length found in the above computation\n",
    "total_avg = sum(total)/len(total)\n",
    "\n",
    "#get total standard deviation for every phrase length found in the above computation\n",
    "total_std = (np.std(total))\n",
    "\n",
    "#get total variance for every phrase length found in the above computation\n",
    "total_var = (np.var(total))\n",
    "\n",
    "#print format for results\n",
    "print(\"\\n---\\nTotal Average for every participant/stimulus:\", total_avg)\n",
    "print(\"Total Standard Deviation for every participant/stimulus:\", total_std)\n",
    "print(\"Total Variance for every participant/stimulus:\", total_var)"
   ]
  },
  {
   "cell_type": "markdown",
   "metadata": {},
   "source": [
    "The computation below finds the number of phrases boundaries per minute for each excerpt."
   ]
  },
  {
   "cell_type": "code",
   "execution_count": 16,
   "metadata": {},
   "outputs": [
    {
     "name": "stdout",
     "output_type": "stream",
     "text": [
      "Phrases Per Minute for Excerpt 0 : 4.7625\n",
      "Phrases Per Minute for Excerpt 1 : 5.7379518072289155\n",
      "Phrases Per Minute for Excerpt 2 : 6.523972602739726\n",
      "Phrases Per Minute for Excerpt 3 : 3.261986301369863\n",
      "Phrases Per Minute for Excerpt 4 : 3.5018382352941178\n",
      "Phrases Per Minute for Excerpt 5 : 4.715346534653465\n",
      "Phrases Per Minute for Excerpt 6 : 5.602941176470588\n",
      "Phrases Per Minute for Excerpt 7 : 4.07051282051282\n",
      "Phrases Per Minute for Excerpt 8 : 6.35\n",
      "Phrases Per Minute for Excerpt 9 : 5.351123595505618\n"
     ]
    }
   ],
   "source": [
    "#time in seconds of each stimulus\n",
    "s0 = 100\n",
    "s1 = 83\n",
    "s2 = 73\n",
    "s3 = 146\n",
    "s4 = 136\n",
    "s5 = 101\n",
    "s6 = 85\n",
    "s7 = 117\n",
    "s8 = 75\n",
    "s9 = 89\n",
    "\n",
    "total_secs = [s0, s1, s2, s3, s4, s5, s6, s7, s8, s9] #times in seconds for every stimulus\n",
    "count = 0 #counter for every phrase marked\n",
    "\n",
    "#triple-nested for loops to iterate (and count) every phrase marking\n",
    "#loop through every participant\n",
    "for s in range(len(part_data)):\n",
    "    dat = part_data[s]\n",
    "    count_loc = 0\n",
    "    #loop through every stimulus\n",
    "    for i in range(len(stimuli)):\n",
    "        column = dat[stimuli[i]] #column is all phrase markings from stimulus i\n",
    "        column = column.replace(0, np.nan) #replace extraneous zeros with nan values\n",
    "        column = column.dropna(how='all', axis=0) #drop nan values\n",
    "        \n",
    "        #loop through every marking\n",
    "        \n",
    "        for j in range(len(column)):\n",
    "            count += 1 #increment counter\n",
    "            count_loc += 1 #used for each stimulus\n",
    "    stim_min = []\n",
    "    for k in range(len(total_secs)):\n",
    "        mins = count_loc / ((total_secs[k]/60)*len(part_data))\n",
    "        stim_min.append(mins)\n",
    "\n",
    "for l in range(len(stim_min)):\n",
    "    print(\"Phrases Per Minute for Excerpt\", l, \":\", stim_min[l])"
   ]
  },
  {
   "cell_type": "markdown",
   "metadata": {},
   "source": [
    "## The Phrase Detection Algorithm"
   ]
  },
  {
   "cell_type": "markdown",
   "metadata": {},
   "source": [
    "Load data from the phrase detection algorithm"
   ]
  },
  {
   "cell_type": "code",
   "execution_count": 17,
   "metadata": {},
   "outputs": [],
   "source": [
    "intensity = pd.read_csv(\"intensity_marks.csv\")\n",
    "spect = pd.read_csv(\"spectral_marks.csv\")\n",
    "rhythm = pd.read_csv(\"rhythmic_marks.csv\")"
   ]
  },
  {
   "cell_type": "markdown",
   "metadata": {},
   "source": [
    "Drop the nans and format the columns:"
   ]
  },
  {
   "cell_type": "code",
   "execution_count": 18,
   "metadata": {},
   "outputs": [],
   "source": [
    "stimuli = ['0', '1', '2', '3', '4', '5', '6', '7', '8', '9', '10', '11', '12', '13', '14', '15', '16', '17', '18', '19']\n",
    "\n",
    "#drop nans for intensity\n",
    "for i in range(len(stimuli)):\n",
    "    column = intensity[stimuli[i]]\n",
    "    column = column.replace(0, np.nan) #eliminate extraneous zeros\n",
    "    column = column.dropna(how='all', axis=0) #assert no nans present\n",
    "    intensity.insert(i, i+20, column, False) #insert the column containing no nan values\n",
    "#reorganize dataframe columns by stimuli identifier\n",
    "intensity = intensity.drop(intensity[stimuli], axis=1)\n",
    "for i in range(len(stimuli)):\n",
    "    intensity = intensity.rename(columns={(i+len(stimuli)) : i})\n",
    "\n",
    "#drop nans for spect\n",
    "for i in range(len(stimuli)):\n",
    "    column = spect[stimuli[i]]\n",
    "    column = column.replace(0, np.nan) #eliminate extraneous zeros\n",
    "    column = column.dropna(how='all', axis=0) #assert no nans present\n",
    "    spect.insert(i, i+20, column, False) #insert the column containing no nan values\n",
    "#reorganize dataframe columns by stimuli identifier\n",
    "spect = spect.drop(spect[stimuli], axis=1)\n",
    "for i in range(len(stimuli)):\n",
    "    spect = spect.rename(columns={(i+len(stimuli)) : i})\n",
    "\n",
    "#drop nans for rhythm\n",
    "for i in range(len(stimuli)):\n",
    "    column = rhythm[stimuli[i]]\n",
    "    column = column.replace(0, np.nan) #eliminate extraneous zeros\n",
    "    column = column.dropna(how='all', axis=0) #assert no nans present\n",
    "    rhythm.insert(i, i+20, column, False) #insert the column containing no nan values\n",
    "#reorganize dataframe columns by stimuli identifier\n",
    "rhythm = rhythm.drop(rhythm[stimuli], axis=1)\n",
    "for i in range(len(stimuli)):\n",
    "    rhythm = rhythm.rename(columns={(i+len(stimuli)) : i})"
   ]
  },
  {
   "cell_type": "markdown",
   "metadata": {},
   "source": [
    "Get R<sup>2</sup> scores using scikit-learn"
   ]
  },
  {
   "cell_type": "code",
   "execution_count": 19,
   "metadata": {},
   "outputs": [],
   "source": [
    "from sklearn import metrics"
   ]
  },
  {
   "cell_type": "markdown",
   "metadata": {},
   "source": [
    "The following R<sup>2</sup> score computations compare the algorithms' output with itself. This should be 1.0."
   ]
  },
  {
   "cell_type": "code",
   "execution_count": 20,
   "metadata": {},
   "outputs": [
    {
     "name": "stdout",
     "output_type": "stream",
     "text": [
      "Scores for Intensity\n",
      "Stimuli 0 and 1 : 1.0\n",
      "Stimuli 2 and 3 : 1.0\n",
      "Stimuli 4 and 5 : 1.0\n",
      "Stimuli 6 and 7 : 1.0\n",
      "Stimuli 8 and 9 : 1.0\n",
      "Stimuli 10 and 11 : 1.0\n",
      "Stimuli 12 and 13 : 1.0\n",
      "Stimuli 14 and 15 : 1.0\n",
      "Stimuli 16 and 17 : 1.0\n",
      "Stimuli 18 and 19 : 1.0\n",
      "\n",
      "Scores for Spectral Flatness\n",
      "Stimuli 0 and 1 : 1.0\n",
      "Stimuli 2 and 3 : 1.0\n",
      "Stimuli 4 and 5 : 1.0\n",
      "Stimuli 6 and 7 : 1.0\n",
      "Stimuli 8 and 9 : 1.0\n",
      "Stimuli 10 and 11 : 1.0\n",
      "Stimuli 12 and 13 : 1.0\n",
      "Stimuli 14 and 15 : 1.0\n",
      "Stimuli 16 and 17 : 1.0\n",
      "Stimuli 18 and 19 : 1.0\n",
      "\n",
      "Scores for Rhythmic Density\n",
      "Stimuli 0 and 1 : 1.0\n",
      "Stimuli 2 and 3 : 1.0\n",
      "Stimuli 4 and 5 : 1.0\n",
      "Stimuli 6 and 7 : 1.0\n",
      "Stimuli 8 and 9 : 1.0\n",
      "Stimuli 10 and 11 : 1.0\n",
      "Stimuli 12 and 13 : 1.0\n",
      "Stimuli 14 and 15 : 1.0\n",
      "Stimuli 16 and 17 : 1.0\n",
      "Stimuli 18 and 19 : 1.0\n"
     ]
    }
   ],
   "source": [
    "#get r2 scores for intensity\n",
    "column_list = []\n",
    "for i in range(len(stimuli)):\n",
    "    column = intensity[i]\n",
    "    column = column.replace(0, np.nan) #eliminate extraneous zeros\n",
    "    column = column.dropna(how='all', axis=0) #assert no nans present\n",
    "    column_list.append(column)\n",
    "print(\"Scores for Intensity\")\n",
    "count = 0\n",
    "for j in range(int(len(column_list)/2)):\n",
    "    intensity_score = metrics.r2_score(column_list[count],column_list[count+1])\n",
    "    print(\"Stimuli\", count, \"and\", count+1, \":\", intensity_score)\n",
    "    count += 2\n",
    "\n",
    "#get r2 scores for spectral flatness\n",
    "column_list = []\n",
    "for i in range(len(stimuli)):\n",
    "    column = spect[i]\n",
    "    column = column.replace(0, np.nan) #eliminate extraneous zeros\n",
    "    column = column.dropna(how='all', axis=0) #assert no nans present\n",
    "    column_list.append(column)\n",
    "print(\"\\nScores for Spectral Flatness\")\n",
    "count = 0\n",
    "for j in range(int(len(column_list)/2)):\n",
    "    spect_score = metrics.r2_score(column_list[count],column_list[count+1])\n",
    "    print(\"Stimuli\", count, \"and\", count+1, \":\", spect_score)\n",
    "    count += 2\n",
    "\n",
    "#get r2 scores for rhythmic density\n",
    "column_list = []\n",
    "for i in range(len(stimuli)):\n",
    "    column = rhythm[i]\n",
    "    column = column.replace(0, np.nan) #eliminate extraneous zeros\n",
    "    column = column.dropna(how='all', axis=0) #assert no nans present\n",
    "    column_list.append(column)\n",
    "print(\"\\nScores for Rhythmic Density\")\n",
    "count = 0\n",
    "for j in range(int(len(column_list)/2)):\n",
    "    rhythm_score = metrics.r2_score(column_list[count],column_list[count+1])\n",
    "    print(\"Stimuli\", count, \"and\", count+1, \":\", rhythm_score)\n",
    "    count += 2"
   ]
  },
  {
   "cell_type": "markdown",
   "metadata": {},
   "source": [
    "F-Tests are used to compare the variances of each of the phrase detection features."
   ]
  },
  {
   "cell_type": "code",
   "execution_count": 21,
   "metadata": {},
   "outputs": [
    {
     "name": "stdout",
     "output_type": "stream",
     "text": [
      "F-Tests for phrase detection features\n",
      "---\n",
      "\n",
      "\n",
      "F-values for Intensity vs. Spectral Flatness\n",
      "Stimuli 0 : 1.0143627552089014\n",
      "Stimuli 1 : 1.0143627552089014\n",
      "Stimuli 2 : 1.0371908902977032\n",
      "Stimuli 3 : 1.0371908902977032\n",
      "Stimuli 4 : 1.0471856335598502\n",
      "Stimuli 5 : 1.0471856335598502\n",
      "Stimuli 6 : 1.2171604019456366\n",
      "Stimuli 7 : 1.2171604019456366\n",
      "Stimuli 8 : 1.0980035041667218\n",
      "Stimuli 9 : 1.0980035041667218\n",
      "Stimuli 10 : 1.1847346601821263\n",
      "Stimuli 11 : 1.1847346601821263\n",
      "Stimuli 12 : 1.121593813341521\n",
      "Stimuli 13 : 1.121593813341521\n",
      "Stimuli 14 : 1.066151030685654\n",
      "Stimuli 15 : 1.066151030685654\n",
      "Stimuli 16 : 1.0527152516097464\n",
      "Stimuli 17 : 1.0527152516097464\n",
      "Stimuli 18 : 1.4726502120244667\n",
      "Stimuli 19 : 1.4726502120244667\n",
      "\n",
      "F-values for Intensity vs. Rhythmic Density\n",
      "Stimuli 0 : 1.0165091016395318\n",
      "Stimuli 1 : 1.0165091016395318\n",
      "Stimuli 2 : 1.0678037382865555\n",
      "Stimuli 3 : 1.0678037382865555\n",
      "Stimuli 4 : 1.072997203487512\n",
      "Stimuli 5 : 1.072997203487512\n",
      "Stimuli 6 : 1.0572982736065106\n",
      "Stimuli 7 : 1.0572982736065106\n",
      "Stimuli 8 : 1.1414172814043266\n",
      "Stimuli 9 : 1.1414172814043266\n",
      "Stimuli 10 : 1.3023641804115442\n",
      "Stimuli 11 : 1.3023641804115442\n",
      "Stimuli 12 : 1.058907636083655\n",
      "Stimuli 13 : 1.058907636083655\n",
      "Stimuli 14 : 2.2654621383192075\n",
      "Stimuli 15 : 2.2654621383192075\n",
      "Stimuli 16 : 1.284542310024785\n",
      "Stimuli 17 : 1.284542310024785\n",
      "Stimuli 18 : 1.3293385507254243\n",
      "Stimuli 19 : 1.3293385507254243\n",
      "\n",
      "F-values for Spectral Flatness vs. Rhythmic Density\n",
      "Stimuli 0 : 1.0021159554800376\n",
      "Stimuli 1 : 1.0021159554800376\n",
      "Stimuli 2 : 1.107516309976648\n",
      "Stimuli 3 : 1.107516309976648\n",
      "Stimuli 4 : 1.0246485141702304\n",
      "Stimuli 5 : 1.0246485141702304\n",
      "Stimuli 6 : 1.1511987036485234\n",
      "Stimuli 7 : 1.1511987036485234\n",
      "Stimuli 8 : 1.0395388330482167\n",
      "Stimuli 9 : 1.0395388330482167\n",
      "Stimuli 10 : 1.099287649954746\n",
      "Stimuli 11 : 1.099287649954746\n",
      "Stimuli 12 : 1.0591989094438017\n",
      "Stimuli 13 : 1.0591989094438017\n",
      "Stimuli 14 : 2.415324793748349\n",
      "Stimuli 15 : 2.415324793748349\n",
      "Stimuli 16 : 1.2202182005632987\n",
      "Stimuli 17 : 1.2202182005632987\n",
      "Stimuli 18 : 1.1078067443548048\n",
      "Stimuli 19 : 1.1078067443548048\n"
     ]
    }
   ],
   "source": [
    "var_int = np.var(intensity)\n",
    "var_spec = np.var(spect)\n",
    "var_rhythm = np.var(rhythm)\n",
    "print(\"F-Tests for phrase detection features\\n---\\n\")\n",
    "\n",
    "#scores for Intensity vs. Spectral Flatness\n",
    "column_list = []\n",
    "for i in range(len(stimuli)):\n",
    "    column_list.append(var_int[i])\n",
    "    column_list.append(var_spec[i])\n",
    "print(\"\\nF-values for Intensity vs. Spectral Flatness\")\n",
    "count = 0\n",
    "for j in range(int(len(column_list)/2)):\n",
    "    if column_list[count] >= column_list[count+1]:\n",
    "        int_spec_score = (column_list[count])/(column_list[count+1])\n",
    "    else:\n",
    "        int_spec_score = (column_list[count+1])/(column_list[count])\n",
    "    print(\"Stimuli\", j, \":\", int_spec_score)\n",
    "    count += 2\n",
    "\n",
    "#scores for Intensity vs. Rhythmic Density\n",
    "column_list = []\n",
    "for i in range(len(stimuli)):\n",
    "    column_list.append(var_int[i])\n",
    "    column_list.append(var_rhythm[i])\n",
    "print(\"\\nF-values for Intensity vs. Rhythmic Density\")\n",
    "count = 0\n",
    "for j in range(int(len(column_list)/2)):\n",
    "    if column_list[count] >= column_list[count+1]:\n",
    "        int_rhythm_score = (column_list[count])/(column_list[count+1])\n",
    "    else:\n",
    "        int_rhythm_score = (column_list[count+1])/(column_list[count])\n",
    "    print(\"Stimuli\", j, \":\", int_rhythm_score)\n",
    "    count += 2\n",
    "    \n",
    "#scores for Spectral Flatness vs. Rhythmic Density\n",
    "column_list = []\n",
    "for i in range(len(stimuli)):\n",
    "    column_list.append(var_spec[i])\n",
    "    column_list.append(var_rhythm[i])\n",
    "print(\"\\nF-values for Spectral Flatness vs. Rhythmic Density\")\n",
    "count = 0\n",
    "for j in range(int(len(column_list)/2)):\n",
    "    if column_list[count] >= column_list[count+1]:\n",
    "        spec_rhythm_score = (column_list[count])/(column_list[count+1])\n",
    "    else:\n",
    "        spec_rhythm_score = (column_list[count+1])/(column_list[count])\n",
    "    print(\"Stimuli\", j, \":\", spec_rhythm_score)\n",
    "    count += 2"
   ]
  },
  {
   "cell_type": "markdown",
   "metadata": {},
   "source": [
    "F-Tests are used to compare the variances of the acoustic features to the participants' data."
   ]
  },
  {
   "cell_type": "code",
   "execution_count": 22,
   "metadata": {},
   "outputs": [
    {
     "name": "stdout",
     "output_type": "stream",
     "text": [
      "F-Tests for acoustic features versus the participants' data\n",
      "---\n",
      "\n",
      "\n",
      "F-values for Participants' Data versus Intensity\n",
      "Stimuli 0 : 77694.25283629591\n",
      "Stimuli 1 : 109.00210470985314\n",
      "Stimuli 2 : 33.09354136108922\n",
      "Stimuli 3 : 31.064607277632167\n",
      "Stimuli 4 : 24.548833993839438\n",
      "Stimuli 5 : 18.373953343426827\n",
      "Stimuli 6 : 62.4010578052963\n",
      "Stimuli 7 : 97.56608683350399\n",
      "Stimuli 8 : 41.42865169140136\n",
      "Stimuli 9 : 19.900602554347383\n",
      "Stimuli 10 : 19.42521125203107\n",
      "Stimuli 11 : 11.296013344182107\n",
      "Stimuli 12 : 16.953102788903028\n",
      "Stimuli 13 : 8.594223276263644\n",
      "Stimuli 14 : 57.879554250592115\n",
      "Stimuli 15 : 6.083678285740996\n",
      "Stimuli 16 : 5.734446086961364\n",
      "Stimuli 17 : 12.053625718393782\n",
      "Stimuli 18 : 2.9599261768447094\n",
      "Stimuli 19 : 5.402177570001568\n",
      "\n",
      "F-values for Participants' Data versus Spectral Flatness\n",
      "Stimuli 0 : 76594.14981211064\n",
      "Stimuli 1 : 107.45870168252073\n",
      "Stimuli 2 : 34.32431962741199\n",
      "Stimuli 3 : 32.21992767903581\n",
      "Stimuli 4 : 25.70718627899434\n",
      "Stimuli 5 : 19.24093997293555\n",
      "Stimuli 6 : 75.95209660012735\n",
      "Stimuli 7 : 118.75357746653059\n",
      "Stimuli 8 : 45.48880473006128\n",
      "Stimuli 9 : 21.850931339702637\n",
      "Stimuli 10 : 23.013721051641046\n",
      "Stimuli 11 : 13.382778530732352\n",
      "Stimuli 12 : 19.014495204976523\n",
      "Stimuli 13 : 9.639227657133002\n",
      "Stimuli 14 : 61.70834641989501\n",
      "Stimuli 15 : 6.486119874702696\n",
      "Stimuli 16 : 5.447290782756882\n",
      "Stimuli 17 : 11.450034280364163\n",
      "Stimuli 18 : 4.358935911907131\n",
      "Stimuli 19 : 7.955517943856628\n",
      "\n",
      "F-values for Participants' Data versus Rhythmic Density\n",
      "Stimuli 0 : 76432.42220948394\n",
      "Stimuli 1 : 107.23180395929873\n",
      "Stimuli 2 : 30.99215724248406\n",
      "Stimuli 3 : 29.092057054866462\n",
      "Stimuli 4 : 26.340830224268885\n",
      "Stimuli 5 : 19.715200554507003\n",
      "Stimuli 6 : 65.97653068875984\n",
      "Stimuli 7 : 103.15645517160665\n",
      "Stimuli 8 : 47.287378985846104\n",
      "Stimuli 9 : 22.714891665891187\n",
      "Stimuli 10 : 25.29869933157255\n",
      "Stimuli 11 : 14.711523160913597\n",
      "Stimuli 12 : 17.951769998480522\n",
      "Stimuli 13 : 9.10048865344346\n",
      "Stimuli 14 : 25.54867427337988\n",
      "Stimuli 15 : 2.685402763011789\n",
      "Stimuli 16 : 4.464194010745134\n",
      "Stimuli 17 : 9.383595716797533\n",
      "Stimuli 18 : 3.934743974180992\n",
      "Stimuli 19 : 7.181322901667279\n"
     ]
    }
   ],
   "source": [
    "print(\"F-Tests for acoustic features versus the participants' data\\n---\\n\")\n",
    "\n",
    "#intensity versus participants\n",
    "column_list = []\n",
    "for a in range(len(stimuli)): #loop through all stimuli\n",
    "    column_list.append(var_int[a])\n",
    "    stimulus_var = []\n",
    "    for b in range(len(stimulus_asv)): #loop through each participant\n",
    "        stimulus_var.append(stimulus_asv[b][a]) #appends average for each participants' average phr len for stimulus a\n",
    "        stimulus_var = [c for c in stimulus_var if str(c) != 'nan'] #drops nans to clean list\n",
    "    var_part = np.var(stimulus_var)\n",
    "    column_list.append(var_part)\n",
    "print(\"\\nF-values for Participants' Data versus Intensity\")\n",
    "count = 0\n",
    "for j in range(int(len(column_list)/2)):\n",
    "    if column_list[count] >= column_list[count+1]:\n",
    "        int_part_score = (column_list[count])/(column_list[count+1])\n",
    "    else:\n",
    "        int_part_score = (column_list[count+1])/(column_list[count])\n",
    "    print(\"Stimuli\", j, \":\", int_part_score)\n",
    "    count += 2\n",
    "\n",
    "#spectral flatness versus participants\n",
    "column_list = []\n",
    "for a in range(len(stimuli)): #loop through all stimuli\n",
    "    column_list.append(var_spec[a])\n",
    "    stimulus_var = []\n",
    "    for b in range(len(stimulus_asv)): #loop through each participant\n",
    "        stimulus_var.append(stimulus_asv[b][a]) #appends average for each participants' average phr len for stimulus a\n",
    "        stimulus_var = [c for c in stimulus_var if str(c) != 'nan'] #drops nans to clean list\n",
    "    var_part = np.var(stimulus_var)\n",
    "    column_list.append(var_part)\n",
    "print(\"\\nF-values for Participants' Data versus Spectral Flatness\")\n",
    "count = 0\n",
    "for j in range(int(len(column_list)/2)):\n",
    "    if column_list[count] >= column_list[count+1]:\n",
    "        spec_part_score = (column_list[count])/(column_list[count+1])\n",
    "    else:\n",
    "        spec_part_score = (column_list[count+1])/(column_list[count])\n",
    "    print(\"Stimuli\", j, \":\", spec_part_score)\n",
    "    count += 2\n",
    "    \n",
    "#rhythmic density versus participants\n",
    "column_list = []\n",
    "for a in range(len(stimuli)): #loop through all stimuli\n",
    "    column_list.append(var_rhythm[a])\n",
    "    stimulus_var = []\n",
    "    for b in range(len(stimulus_asv)): #loop through each participant\n",
    "        stimulus_var.append(stimulus_asv[b][a]) #appends average for each participants' average phr len for stimulus a\n",
    "        stimulus_var = [c for c in stimulus_var if str(c) != 'nan'] #drops nans to clean list\n",
    "    var_part = np.var(stimulus_var)\n",
    "    column_list.append(var_part)\n",
    "print(\"\\nF-values for Participants' Data versus Rhythmic Density\")\n",
    "count = 0\n",
    "for j in range(int(len(column_list)/2)):\n",
    "    if column_list[count] >= column_list[count+1]:\n",
    "        rhythm_part_score = (column_list[count])/(column_list[count+1])\n",
    "    else:\n",
    "        rhythm_part_score = (column_list[count+1])/(column_list[count])\n",
    "    print(\"Stimuli\", j, \":\", rhythm_part_score)\n",
    "    count += 2"
   ]
  },
  {
   "cell_type": "code",
   "execution_count": null,
   "metadata": {},
   "outputs": [],
   "source": []
  }
 ],
 "metadata": {
  "kernelspec": {
   "display_name": "Python 3",
   "language": "python",
   "name": "python3"
  },
  "language_info": {
   "codemirror_mode": {
    "name": "ipython",
    "version": 3
   },
   "file_extension": ".py",
   "mimetype": "text/x-python",
   "name": "python",
   "nbconvert_exporter": "python",
   "pygments_lexer": "ipython3",
   "version": "3.7.3"
  }
 },
 "nbformat": 4,
 "nbformat_minor": 4
}
